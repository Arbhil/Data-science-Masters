{
 "cells": [
  {
   "cell_type": "markdown",
   "id": "7d868cad-07d1-4a27-b2b4-d4725068a38d",
   "metadata": {},
   "source": [
    "### Q1. Explain Class and Object with respect to Object-Oriented Programming. Give a suitable example.\n",
    "* An object is simply a collection of data (variables) and methods (functions). It is also called an instance of a class.\n",
    "* A class is a blueprint for that object."
   ]
  },
  {
   "cell_type": "code",
   "execution_count": 1,
   "id": "ae812932-86ed-4faa-991e-8e1ee6872c36",
   "metadata": {},
   "outputs": [],
   "source": [
    "## for example\n",
    "class car:\n",
    "    name = \"BMW\"\n",
    "    gear = 6\n",
    "## here the class name is car and name/gear is variables inside the class named car\n",
    "## example2\n",
    "class pwskills:\n",
    "    \n",
    "    def __init__(self, phone_no, email_id, student_id):\n",
    "        self.phone_no2 = phone_no\n",
    "        self.e_id = email_id\n",
    "        self.s_id = student_id\n",
    "    \n",
    "    def return_all(self):\n",
    "        return self.phone_no2, self.e_id, self.s_id\n",
    "\n",
    "rohan= pwskills(176363,'jhygfhsh@gmail.com',63)    \n",
    "\n",
    "### here pwskills is the class and \"rohan\" is an object of the class pwskills"
   ]
  },
  {
   "cell_type": "markdown",
   "id": "11d557fd-295c-4e4e-bee4-4525b3080a60",
   "metadata": {},
   "source": [
    "### Q2. Name the four pillars of OOPs.\n",
    "* Inheritance\n",
    "* Polymorphism\n",
    "* Encapsulation\n",
    "* Abstraction"
   ]
  },
  {
   "cell_type": "markdown",
   "id": "665e18ee-fc22-49dd-91f6-ca087a0ddbc4",
   "metadata": {},
   "source": [
    "### Q3. Explain why the __init__() function is used. Give a suitable example\n",
    "* All classes have a function called __init__(), which is always executed when the class is being initiated. that's why we use the __init__() function to assign values to object properties, or other operations that are necessary to do when the object is being created"
   ]
  },
  {
   "cell_type": "code",
   "execution_count": 2,
   "id": "1dd6d70a-3ff1-437d-851d-26ef4b89c696",
   "metadata": {},
   "outputs": [
    {
     "data": {
      "text/plain": [
       "'jhygfhsh@gmail.com'"
      ]
     },
     "execution_count": 2,
     "metadata": {},
     "output_type": "execute_result"
    }
   ],
   "source": [
    "## example\n",
    "class pwskills:\n",
    "    \n",
    "    def __init__(self, phone_no, email_id, student_id):\n",
    "        self.phone_no2 = phone_no\n",
    "        self.e_id = email_id\n",
    "        self.s_id = student_id\n",
    "    \n",
    "    def return_all(self):\n",
    "        return self.phone_no2, self.e_id, self.s_id\n",
    "\n",
    "rohan= pwskills(176363,'jhygfhsh@gmail.com',63)\n",
    "rohan.e_id"
   ]
  },
  {
   "cell_type": "markdown",
   "id": "b1dd97f4-d0cf-476d-a605-d3d11f5a5f51",
   "metadata": {},
   "source": [
    "## Q4. Why self is used in OOPs?\n",
    "* self represents the instance of the class. By using the “self” we can access the attributes and methods of the class in python. It binds the attributes with the given arguments. The reason you need to use self. is because Python does not use the @ syntax to refer to instance attributes."
   ]
  },
  {
   "cell_type": "markdown",
   "id": "35bb02b9-f562-4f51-a655-c629625ef7cc",
   "metadata": {},
   "source": [
    "## Q5. What is inheritance? Give an example for each type of inheritance.\n",
    "* Inheritance is the capability of one class to derive or inherit the properties from another class. \n",
    "#### There are 5 types of inheritance\n",
    "* Single inheritance\n",
    "* Multiple inheritance\n",
    "* Multilevel inheritance\n",
    "* Hiererchial inharitance\n",
    "* Hybrid inheritance"
   ]
  },
  {
   "cell_type": "code",
   "execution_count": 9,
   "id": "fedc41b1-a289-4e29-a2c9-c7d7f99a1656",
   "metadata": {},
   "outputs": [
    {
     "name": "stdout",
     "output_type": "stream",
     "text": [
      "This is class a\n"
     ]
    }
   ],
   "source": [
    "## Example Single inheritance\n",
    "class a:\n",
    "    def fun_a(self):\n",
    "        print(\"This is class a\")\n",
    "class b(a):\n",
    "    def fun_b(self):\n",
    "        print(\"This is class b\")\n",
    "obj_a = b()\n",
    "obj_a.fun_a()"
   ]
  },
  {
   "cell_type": "code",
   "execution_count": 10,
   "id": "fbfb280b-ccc6-4606-8232-e590db5244db",
   "metadata": {},
   "outputs": [
    {
     "name": "stdout",
     "output_type": "stream",
     "text": [
      "This is class a\n",
      "None\n",
      "This is class b\n",
      "None\n"
     ]
    }
   ],
   "source": [
    "## Example multiple inheritance\n",
    "class a:\n",
    "    def fun_a(self):\n",
    "        print(\"This is class a\")\n",
    "class b:\n",
    "    def fun_b(self):\n",
    "        print(\"This is class b\")\n",
    "class c(a,b):\n",
    "    def fun_c(self):\n",
    "        print(\"This is class c\")\n",
    "obj= c()\n",
    "print(obj.fun_a())\n",
    "print(obj.fun_b())"
   ]
  },
  {
   "cell_type": "code",
   "execution_count": 11,
   "id": "3eb0ead5-8224-478d-9be1-a8f8b9426ec8",
   "metadata": {},
   "outputs": [
    {
     "name": "stdout",
     "output_type": "stream",
     "text": [
      "This is class a\n",
      "None\n",
      "This is class b\n",
      "None\n"
     ]
    }
   ],
   "source": [
    "## Example multilevel inheritance\n",
    "class a:\n",
    "    def fun_a(self):\n",
    "        print(\"This is class a\")\n",
    "class b(a):\n",
    "    def fun_b(self):\n",
    "        print(\"This is class b\")\n",
    "class c(b):\n",
    "    def fun_c(self):\n",
    "        print(\"This is class c\")\n",
    "obj= c()\n",
    "print(obj.fun_a())\n",
    "print(obj.fun_b())"
   ]
  },
  {
   "cell_type": "code",
   "execution_count": 13,
   "id": "71f6693c-e206-4824-bb33-d1cf3c3ce92f",
   "metadata": {},
   "outputs": [
    {
     "name": "stdout",
     "output_type": "stream",
     "text": [
      "This is class a\n",
      "None\n",
      "This is class a\n",
      "None\n"
     ]
    }
   ],
   "source": [
    "## Example Hiererchial inheritance\n",
    "class a:\n",
    "    def fun_a(self):\n",
    "        print(\"This is class a\")\n",
    "class b(a):\n",
    "    def fun_b(self):\n",
    "        print(\"This is class b\")\n",
    "class c(a):\n",
    "    def fun_c(self):\n",
    "        print(\"This is class c\")\n",
    "class d(a):\n",
    "    def fun_d(self):\n",
    "        print(\"This is class d\")\n",
    "obj= c()\n",
    "print(obj.fun_a())\n",
    "print(obj.fun_a())"
   ]
  },
  {
   "cell_type": "code",
   "execution_count": 14,
   "id": "5f5652c8-b186-4cd7-a0f6-183ffa1c904b",
   "metadata": {},
   "outputs": [
    {
     "name": "stdout",
     "output_type": "stream",
     "text": [
      "This is class a\n",
      "None\n",
      "This is class a\n",
      "None\n"
     ]
    }
   ],
   "source": [
    "## Example Hybrid inheritance\n",
    "class a:\n",
    "    def fun_a(self):\n",
    "        print(\"This is class a\")\n",
    "class b(a):\n",
    "    def fun_b(self):\n",
    "        print(\"This is class b\")\n",
    "class c(a):\n",
    "    def fun_c(self):\n",
    "        print(\"This is class c\")\n",
    "class d(b,c):\n",
    "    def fun_d(self):\n",
    "        print(\"This is class d\")\n",
    "obj= c()\n",
    "print(obj.fun_a())\n",
    "print(obj.fun_a())"
   ]
  }
 ],
 "metadata": {
  "kernelspec": {
   "display_name": "Python 3 (ipykernel)",
   "language": "python",
   "name": "python3"
  },
  "language_info": {
   "codemirror_mode": {
    "name": "ipython",
    "version": 3
   },
   "file_extension": ".py",
   "mimetype": "text/x-python",
   "name": "python",
   "nbconvert_exporter": "python",
   "pygments_lexer": "ipython3",
   "version": "3.10.8"
  }
 },
 "nbformat": 4,
 "nbformat_minor": 5
}
