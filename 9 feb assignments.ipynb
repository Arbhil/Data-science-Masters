{
 "cells": [
  {
   "cell_type": "markdown",
   "id": "70289889-8c6e-4a3a-abde-f279ead23e71",
   "metadata": {},
   "source": [
    "#### Q1, Create a vehicle class with an init method having instance variables as name_of_vehicle, max_speed and average_of_vehicle. "
   ]
  },
  {
   "cell_type": "code",
   "execution_count": 4,
   "id": "8021883b-5ce5-494b-a4b3-8d0608212d28",
   "metadata": {},
   "outputs": [
    {
     "data": {
      "text/plain": [
       "200"
      ]
     },
     "execution_count": 4,
     "metadata": {},
     "output_type": "execute_result"
    }
   ],
   "source": [
    "class vehicle:\n",
    "    def __init__(self, name_of_vehicle, max_speed, average_of_vehicle):\n",
    "        self.name_of_vehicle = name_of_vehicle\n",
    "        self.max_speed = max_speed\n",
    "        self.average_of_vehicle = average_of_vehicle\n",
    "car = vehicle('BMW', 200, 130)\n",
    "car.name_of_vehicle\n",
    "car.max_speed"
   ]
  },
  {
   "cell_type": "markdown",
   "id": "7da691b3-51b0-4c46-8e2e-50fe88ffc16b",
   "metadata": {},
   "source": [
    "#### Q2.  Create a child class car from the vehicle class created in Que 1, which will inherit the vehicle class. Create a method named seating_capacity which takes capacity as an argument and returns the name of the vehicle and its seating capacity."
   ]
  },
  {
   "cell_type": "code",
   "execution_count": 3,
   "id": "dbc02278-fa42-44f8-af22-6d83bc8683be",
   "metadata": {},
   "outputs": [
    {
     "ename": "NameError",
     "evalue": "name 'self' is not defined",
     "output_type": "error",
     "traceback": [
      "\u001b[0;31m---------------------------------------------------------------------------\u001b[0m",
      "\u001b[0;31mNameError\u001b[0m                                 Traceback (most recent call last)",
      "Cell \u001b[0;32mIn[3], line 11\u001b[0m\n\u001b[1;32m      9\u001b[0m         \u001b[38;5;28;01mreturn\u001b[39;00m capacity, \u001b[38;5;28mself\u001b[39m\u001b[38;5;241m.\u001b[39mname_of_vehicle\n\u001b[1;32m     10\u001b[0m car1\u001b[38;5;241m=\u001b[39m car(\u001b[38;5;124m'\u001b[39m\u001b[38;5;124mBMW\u001b[39m\u001b[38;5;124m'\u001b[39m, \u001b[38;5;241m200\u001b[39m, \u001b[38;5;241m130\u001b[39m)\n\u001b[0;32m---> 11\u001b[0m \u001b[43mcar1\u001b[49m\u001b[38;5;241;43m.\u001b[39;49m\u001b[43mseating_capacity\u001b[49m\u001b[43m(\u001b[49m\u001b[38;5;241;43m6\u001b[39;49m\u001b[43m)\u001b[49m\n",
      "Cell \u001b[0;32mIn[3], line 9\u001b[0m, in \u001b[0;36mcar.seating_capacity\u001b[0;34m(capacity)\u001b[0m\n\u001b[1;32m      7\u001b[0m \u001b[38;5;129m@staticmethod\u001b[39m\n\u001b[1;32m      8\u001b[0m \u001b[38;5;28;01mdef\u001b[39;00m \u001b[38;5;21mseating_capacity\u001b[39m(capacity):\n\u001b[0;32m----> 9\u001b[0m     \u001b[38;5;28;01mreturn\u001b[39;00m capacity, \u001b[38;5;28;43mself\u001b[39;49m\u001b[38;5;241m.\u001b[39mname_of_vehicle\n",
      "\u001b[0;31mNameError\u001b[0m: name 'self' is not defined"
     ]
    }
   ],
   "source": [
    "class vehicle:\n",
    "    def __init__(self, name_of_vehicle, max_speed, average_of_vehicle):\n",
    "        self.name_of_vehicle = name_of_vehicle\n",
    "        self.max_speed = max_speed\n",
    "        self.average_of_vehicle = average_of_vehicle\n",
    "class car(vehicle):\n",
    "    def seating_capacity(self, capacity):\n",
    "        self.capacity = capacity\n",
    "        return self.capacity, self.name_of_vehicle\n",
    "car1= vehicle('BMW', 200, 130)\n",
    "car1.seating_capacity(6)"
   ]
  },
  {
   "cell_type": "markdown",
   "id": "e8d79c2b-288d-4879-ad35-29abc2767c71",
   "metadata": {},
   "source": [
    "#### Q3. What is multiple inheritance? Write a python code to demonstrate multiple inheritance.\n",
    "* When child class is derived or inherited from more than one parent class. This is called multiple inheritance. In multiple inheritance, we have two parent classes/base classes and one child class that inherits both parent classes properties.\n"
   ]
  },
  {
   "cell_type": "code",
   "execution_count": null,
   "id": "0799204e-f199-41cf-bd9e-ce95b1667f9b",
   "metadata": {},
   "outputs": [],
   "source": [
    "## Example multiple inheritance\n",
    "class a:\n",
    "    def fun_a(self):\n",
    "        print(\"This is class a\")\n",
    "class b:\n",
    "    def fun_b(self):\n",
    "        print(\"This is class b\")\n",
    "class c(a,b):\n",
    "    def fun_c(self):\n",
    "        print(\"This is class c\")\n",
    "obj= c()\n",
    "print(obj.fun_a())\n",
    "print(obj.fun_b())"
   ]
  },
  {
   "cell_type": "markdown",
   "id": "0e6dce5e-5400-4c92-a318-5614143e1c65",
   "metadata": {},
   "source": [
    "#### Q4. What are getter and setter in python? Create a class and create a getter and a setter method in this class.\n",
    "* Getters: These are the methods used in Object-Oriented Programming (OOPS) which helps to access the private attributes from a class.\n",
    "* Setters: These are the methods used in OOPS feature which helps to set the value to private attributes in a class."
   ]
  },
  {
   "cell_type": "code",
   "execution_count": 17,
   "id": "99464bc7-cf8c-4ce6-99ee-94be84d7a511",
   "metadata": {},
   "outputs": [],
   "source": [
    "class rahul:\n",
    "    def __init__(self, age):\n",
    "        self.__age = age\n",
    "    ## using getters to access the private attributes\n",
    "    def get_age(self):\n",
    "        return self.__age\n",
    "    ## using setters to set a value to the private attributes of the class\n",
    "    def change_value(self):\n",
    "        self.__age = 20     "
   ]
  },
  {
   "cell_type": "markdown",
   "id": "bea60024-e849-4729-94c9-7735864f8e75",
   "metadata": {},
   "source": [
    "#### Q5.What is method overriding in python? Write a python code to demonstrate method overriding.\n",
    "* Method overriding in Python is when you have two methods with the same name that each perform different tasks. This is an important feature of inheritance in Python."
   ]
  },
  {
   "cell_type": "code",
   "execution_count": 1,
   "id": "e0b5d9d8-8399-4c64-a82c-8d17b395c3e7",
   "metadata": {},
   "outputs": [
    {
     "name": "stdout",
     "output_type": "stream",
     "text": [
      "Inside Parent\n",
      "Inside Child\n"
     ]
    }
   ],
   "source": [
    "class Parent():\n",
    "    def __init__(self):\n",
    "        self.value = \"Inside Parent\"\n",
    "          \n",
    "    # Parent's method\n",
    "    def show(self):\n",
    "        print(self.value)\n",
    "          \n",
    "class Child(Parent):\n",
    "    def __init__(self):\n",
    "        self.value = \"Inside Child\"\n",
    "          \n",
    "    # Child's method\n",
    "    def show(self):\n",
    "        print(self.value)\n",
    "                   \n",
    "obj1 = Parent()\n",
    "obj2 = Child()\n",
    "  \n",
    "obj1.show()\n",
    "obj2.show()"
   ]
  },
  {
   "cell_type": "code",
   "execution_count": null,
   "id": "3d5101d7-3cbf-43d9-8f13-ac2edd764f3d",
   "metadata": {},
   "outputs": [],
   "source": []
  },
  {
   "cell_type": "code",
   "execution_count": null,
   "id": "d6eaf206-10cd-4085-999a-c43d92755a60",
   "metadata": {},
   "outputs": [],
   "source": []
  },
  {
   "cell_type": "code",
   "execution_count": null,
   "id": "0bae6fa5-af35-4475-be00-94111f08cc62",
   "metadata": {},
   "outputs": [],
   "source": []
  },
  {
   "cell_type": "code",
   "execution_count": null,
   "id": "70551ff7-4aab-417a-a967-8462e1fd054d",
   "metadata": {},
   "outputs": [],
   "source": []
  },
  {
   "cell_type": "code",
   "execution_count": null,
   "id": "ea7e6578-aeeb-43ab-98c1-4f91bfb32fbf",
   "metadata": {},
   "outputs": [],
   "source": []
  },
  {
   "cell_type": "code",
   "execution_count": null,
   "id": "72cc89f4-cd9a-49fb-b07f-22f065c6d370",
   "metadata": {},
   "outputs": [],
   "source": []
  },
  {
   "cell_type": "code",
   "execution_count": null,
   "id": "54f4ae9f-9f9f-4394-b6f8-b18e6db6f7b2",
   "metadata": {},
   "outputs": [],
   "source": []
  },
  {
   "cell_type": "code",
   "execution_count": null,
   "id": "ded2065a-19a7-4def-99fa-6e4a9bacbc6d",
   "metadata": {},
   "outputs": [],
   "source": []
  }
 ],
 "metadata": {
  "kernelspec": {
   "display_name": "Python 3 (ipykernel)",
   "language": "python",
   "name": "python3"
  },
  "language_info": {
   "codemirror_mode": {
    "name": "ipython",
    "version": 3
   },
   "file_extension": ".py",
   "mimetype": "text/x-python",
   "name": "python",
   "nbconvert_exporter": "python",
   "pygments_lexer": "ipython3",
   "version": "3.10.8"
  }
 },
 "nbformat": 4,
 "nbformat_minor": 5
}
