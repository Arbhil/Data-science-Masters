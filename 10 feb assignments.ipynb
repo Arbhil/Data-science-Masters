{
 "cells": [
  {
   "cell_type": "markdown",
   "id": "cbb7f507-4706-4fe4-af2a-fae64ecd7b8c",
   "metadata": {},
   "source": [
    "## Q1. Which function is used to open a file? What are the different modes of opening a file? Explain each mode of file opening.\n",
    "\n",
    "\n",
    "\n",
    "  \n",
    "\n",
    "\n",
    "\n",
    "\n",
    "\n"
   ]
  },
  {
   "cell_type": "code",
   "execution_count": 5,
   "id": "e376904c-e462-4258-97e5-a04ff40fe2a2",
   "metadata": {},
   "outputs": [],
   "source": [
    "# open function is used to open a file\n",
    "# examples\n",
    "f1= open(\"test1.txt\", 'a') # here mode is 'a' it is usd for writing and appending to the end of the file if exist\n",
    "f2= open(\"test2.txt\", 'w') # simple writing mode, every time we write something it truncating the file first\n",
    "\n",
    "f4= open(\"test4.txt\", 'wb') # mode for writing binary files\n",
    "# but there are also mode like 'r'(used for reading an existing file), 'x'(create a new file and open it for writing), 'rb'(for reading binary or used for buffer read)\n",
    "\n"
   ]
  },
  {
   "cell_type": "markdown",
   "id": "4812e6f9-499b-41d8-bde8-9ec70140c991",
   "metadata": {},
   "source": [
    "### Q2. Why close() function is used? Why is it important to close a file?\n",
    "##### if we don't execute the close() function after writing something in a file, we will not be able to see the information we have written and Because files are limited resources managed by the operating system, making sure files are closed after use will protect against hard-to-debug issues like running out of file handles or experiencing corrupted data."
   ]
  },
  {
   "cell_type": "markdown",
   "id": "205d1ddf-f229-4c91-82e0-f9b9cdfcf61f",
   "metadata": {},
   "source": [
    "### Q3. Write a python program to create a text file. Write ‘I want to become a Data Scientist’ in that file. Then close the file. Open this file and read the content of the file."
   ]
  },
  {
   "cell_type": "code",
   "execution_count": 7,
   "id": "34460847-e8eb-4da7-9717-50f977b1e182",
   "metadata": {},
   "outputs": [],
   "source": [
    "f= open(\"test3.txt\", 'a')\n",
    "f.write(\"I want to become a Data Scientist\")\n",
    "f.close()\n"
   ]
  },
  {
   "cell_type": "code",
   "execution_count": 9,
   "id": "82a76bf7-512c-4a6f-8dfa-92298cb25dea",
   "metadata": {},
   "outputs": [
    {
     "name": "stdout",
     "output_type": "stream",
     "text": [
      "I want to become a Data Scientist\n"
     ]
    }
   ],
   "source": [
    "data = open(\"test3.txt\", 'r')\n",
    "print(data.read())"
   ]
  },
  {
   "cell_type": "markdown",
   "id": "43dcb84a-e6be-40d9-8c5d-a89adc126ccd",
   "metadata": {},
   "source": [
    "## Q4. Explain the following with python code: read(), readline() and readlines()."
   ]
  },
  {
   "cell_type": "code",
   "execution_count": 6,
   "id": "33d79368-8e60-429a-a8ef-085ead91500a",
   "metadata": {},
   "outputs": [
    {
     "name": "stdout",
     "output_type": "stream",
     "text": [
      "I want to become a Data Scientist\n",
      "very good\n",
      "excellent\n"
     ]
    }
   ],
   "source": [
    "# read()\n",
    "f= open(\"test5.txt\", 'a')\n",
    "f.write(\"I want to become a Data Scientist\\nvery good\\nexcellent\")\n",
    "f.close()\n",
    "data1 = open(\"test5.txt\", 'r')\n",
    "print(data1.read())"
   ]
  },
  {
   "cell_type": "code",
   "execution_count": 7,
   "id": "d46a7339-1b6e-412f-af85-b8ecceea2a6a",
   "metadata": {},
   "outputs": [
    {
     "name": "stdout",
     "output_type": "stream",
     "text": [
      "['I want to become a Data Scientist\\n', 'very good\\n', 'excellent']\n"
     ]
    }
   ],
   "source": [
    "# readlines()\n",
    "f= open(\"test6.txt\", 'a')\n",
    "f.write(\"I want to become a Data Scientist\\nvery good\\nexcellent\")\n",
    "f.close()\n",
    "data2 = open(\"test5.txt\", 'r')\n",
    "print(data2.readlines())## return the info in a list format\n"
   ]
  },
  {
   "cell_type": "code",
   "execution_count": 12,
   "id": "5047837b-39f7-43a0-affe-5f65a1319dbb",
   "metadata": {},
   "outputs": [
    {
     "name": "stdout",
     "output_type": "stream",
     "text": [
      "I want to become a Data Scientist\n",
      "\n",
      "very good\n",
      "\n",
      "excellent\n"
     ]
    }
   ],
   "source": [
    "# readline() reads the line one by one\n",
    "f= open(\"test7.txt\", 'a')\n",
    "f.write(\"I want to become a Data Scientist\\nvery good\\nexcellent\")\n",
    "f.close()\n",
    "data3 = open(\"test7.txt\", 'r')\n",
    "y = data3.readline()\n",
    "while y != \"\":\n",
    "    print(y)\n",
    "    y = data3.readline()\n"
   ]
  },
  {
   "cell_type": "markdown",
   "id": "188dfe16-ff06-4d49-842d-05a9945db257",
   "metadata": {},
   "source": [
    "## Q5. Explain why with statement is used with open(). What is the advantage of using with statement and\n",
    "open() together?\n",
    "#### The with statement works with the open() function to open a file.\n",
    "#### Advantage - using only open() where you have to close the file with the close() method, the with statement closes the file for you without you telling it to. This is because the with statement calls 2 built-in methods behind the scene – __enter()__ and __exit()__ ."
   ]
  },
  {
   "cell_type": "markdown",
   "id": "31e8cdec-96a8-447c-be67-7f8717523d02",
   "metadata": {},
   "source": [
    "## Q6. Explain the write() and writelines() functions. Give a suitable example."
   ]
  },
  {
   "cell_type": "code",
   "execution_count": null,
   "id": "70d4b591-591f-4fa4-83ae-2d1441187037",
   "metadata": {},
   "outputs": [],
   "source": [
    "# write\n",
    "f= open(\"test5.txt\", 'a')\n",
    "f.write(\"I want to become a Data Scientist\\nvery good\\nexcellent\")\n",
    "f.close()"
   ]
  },
  {
   "cell_type": "code",
   "execution_count": 2,
   "id": "0b567454-8d15-47f1-b67a-090e59630793",
   "metadata": {},
   "outputs": [],
   "source": [
    "# writelines\n",
    "Fruit = [ \"Apple\\n\" , \"Graphs\\n\" , \"Mango\\n\" , \"Orange\\n\" , \"Kiwi\\n\" ] \n",
    "file1 = open('test8.txt', 'w')  \n",
    "file1.writelines((Fruit))                                                                           \n",
    "file1.close()  \n"
   ]
  },
  {
   "cell_type": "code",
   "execution_count": null,
   "id": "0d3d6ef5-fd84-49c4-8275-43468ba10bb3",
   "metadata": {},
   "outputs": [],
   "source": []
  },
  {
   "cell_type": "code",
   "execution_count": null,
   "id": "6337b4b0-6dfb-478e-b5a2-6fbaa1c3a9c8",
   "metadata": {},
   "outputs": [],
   "source": []
  }
 ],
 "metadata": {
  "kernelspec": {
   "display_name": "Python 3 (ipykernel)",
   "language": "python",
   "name": "python3"
  },
  "language_info": {
   "codemirror_mode": {
    "name": "ipython",
    "version": 3
   },
   "file_extension": ".py",
   "mimetype": "text/x-python",
   "name": "python",
   "nbconvert_exporter": "python",
   "pygments_lexer": "ipython3",
   "version": "3.10.8"
  }
 },
 "nbformat": 4,
 "nbformat_minor": 5
}
