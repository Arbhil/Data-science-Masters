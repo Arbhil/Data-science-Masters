{
 "cells": [
  {
   "cell_type": "markdown",
   "id": "7f13cfa5-b319-48cf-b4c3-839d771396d7",
   "metadata": {},
   "source": [
    "## Q1. What is the Probability density function?\n",
    "The Probability Density Function (PDF) is a mathematical function used to describe the probability distribution of a continuous random variable. It defines the relative likelihood of a random variable taking on a specific value or falling within a range of values.\n",
    "\n",
    "In mathematical notation, the PDF is often denoted as f(x), where 'x' represents the random variable. The PDF provides the height or value of the function for each possible value of 'x'. The total area under the PDF curve over the entire range of 'x' is equal to 1, indicating that the probability of the random variable taking on any value within the range is 100%.\n",
    "\n",
    "The PDF satisfies the following properties:\n",
    "\n",
    "1. Non-negativity: The PDF values are non-negative for all possible values of the random variable.\n",
    "2. Total area of 1: The area under the PDF curve is equal to 1.\n",
    "3. Probability interpretation: The probability of the random variable falling within a specific range is obtained by integrating the PDF over that range.\n",
    "\n",
    "\n",
    "## Q2. What are the types of Probability distribution?\n",
    "\n",
    "* Normal Distribution (Gaussian Distribution)\n",
    "* Uniform Distribution\n",
    "* Binomial Distribution\n",
    "* Poisson Distribution\n",
    "* log normal Distribution\n",
    "* Power Law Distribution\n",
    "* Bernoulli Distribution\n"
   ]
  },
  {
   "cell_type": "markdown",
   "id": "8369fb61-bbc8-495f-a2b5-eeb5257f0a37",
   "metadata": {},
   "source": [
    "## Q3. Write a Python function to calculate the probability density function of a normal distribution with given mean and standard deviation at a given point."
   ]
  },
  {
   "cell_type": "code",
   "execution_count": 1,
   "id": "618a2e80-f8cb-4d57-b278-bf5719e86ef8",
   "metadata": {},
   "outputs": [
    {
     "data": {
      "text/plain": [
       "0.12951759566589174"
      ]
     },
     "execution_count": 1,
     "metadata": {},
     "output_type": "execute_result"
    }
   ],
   "source": [
    "import math\n",
    "def cal_pdf(x, mean, std):\n",
    "    pdf = (1/(std*(2*math.pi)**(1/2)))*math.exp((-1/2)*((x - mean)/std)**2)\n",
    "    return pdf\n",
    "cal_pdf(1.5, 0, 1)\n",
    "    "
   ]
  },
  {
   "cell_type": "markdown",
   "id": "9bcac4d8-0ab7-41a9-b880-44073e16ea04",
   "metadata": {},
   "source": [
    "Q4. What are the properties of Binomial distribution? Give two examples of events where binomial\n",
    "distribution can be applied.\n",
    "\n",
    "1. Fixed Number of Trials: The binomial distribution is used to model the number of successes in a fixed number of independent Bernoulli trials. Each trial has two possible outcomes: success or failure.\n",
    "\n",
    "1. Independent Trials: Each trial in a binomial distribution is assumed to be independent, meaning the outcome of one trial does not affect the outcome of other trials.\n",
    "\n",
    "3. Constant Probability: The probability of success remains constant for each trial. It is denoted by 'p', and the probability of failure is denoted by 'q', where q = 1 - p.\n",
    "\n",
    "4. Discrete Distribution: The binomial distribution is a discrete probability distribution, as it deals with whole numbers (non-negative integers) representing the number of successes.\n",
    "\n",
    "5. Probability Mass Function (PMF): The probability mass function of the binomial distribution calculates the probability of obtaining a specific number of successes in a given number of trials.\n",
    "\n",
    "Two examples where the binomial distribution can be applied are:\n",
    "\n",
    "* Coin Flipping: Consider flipping a fair coin multiple times. Each flip is an independent trial, and the outcome can be considered a success (e.g., getting heads) or a failure (e.g., getting tails). The binomial distribution can be used to model the number of heads obtained in a fixed number of coin flips.\n",
    "\n",
    "* Quality Control: In a manufacturing process, a company might conduct quality control inspections, where a product is classified as either defective or non-defective. The binomial distribution can be used to model the number of defective products in a sample of fixed size, assuming the probability of a defective product is constant.\n",
    "\n",
    "In both examples, the binomial distribution helps determine the probabilities of obtaining a specific number of successes (heads or defective products) in a fixed number of independent trials.\n",
    "\n",
    "\n",
    "\n",
    "\n"
   ]
  },
  {
   "cell_type": "markdown",
   "id": "cbd61126-0b84-487a-8861-981e007f7cc3",
   "metadata": {},
   "source": [
    "## Q5. Generate a random sample of size 1000 from a binomial distribution with probability of success 0.4 and plot a histogram of the results using matplotlib."
   ]
  },
  {
   "cell_type": "code",
   "execution_count": 12,
   "id": "9ebd41f8-64b6-4feb-b756-ffb68d1811c7",
   "metadata": {},
   "outputs": [
    {
     "data": {
      "image/png": "[encoded data removed]",
      "text/plain": [
       "<Figure size 1000x600 with 1 Axes>"
      ]
     },
     "metadata": {},
     "output_type": "display_data"
    }
   ],
   "source": [
    "import numpy as np\n",
    "import matplotlib.pyplot as plt\n",
    "n = 1000\n",
    "p = 0.4\n",
    "sample = np.random.binomial(1, p, n)\n",
    "plt.figure(figsize = (10, 6))\n",
    "plt.subplot(1,2,1)\n",
    "plt.hist(sample, bins = 2, edgecolor = 'black')\n",
    "plt.show()"
   ]
  },
  {
   "cell_type": "markdown",
   "id": "d00c315d-d5d2-49e8-b168-366ffc9407b6",
   "metadata": {},
   "source": [
    "## Q6. Write a Python function to calculate the cumulative distribution function of a Poisson distribution with given mean at a given point."
   ]
  },
  {
   "cell_type": "code",
   "execution_count": 14,
   "id": "b3ca51a5-6043-46f1-8ac9-32ca8760decd",
   "metadata": {},
   "outputs": [
    {
     "data": {
      "text/plain": [
       "0.6754911345091672"
      ]
     },
     "execution_count": 14,
     "metadata": {},
     "output_type": "execute_result"
    }
   ],
   "source": [
    "import math\n",
    "def cdf_cal(i, mean):\n",
    "    cdf = 0.0\n",
    "    for a in range(1, i+1):\n",
    "        cdf += (math.exp(-mean)*mean**a)/math.factorial(a)\n",
    "    return cdf\n",
    "cdf_cal(3, 2.5)\n",
    "    "
   ]
  },
  {
   "cell_type": "markdown",
   "id": "7c5a96b2-ea4a-4c66-9ef7-0a64956477b5",
   "metadata": {},
   "source": [
    "## Q7. How Binomial distribution different from Poisson distribution?\n",
    "\n",
    "|                                | Binomial Distribution                                                | Poisson Distribution                                                          |\n",
    "|--------------------------------|----------------------------------------------------------------------|-------------------------------------------------------------------------------|\n",
    "| Definition                     | Probability of obtaining a certain number of successes in fixed trials | Probability of a given number of events occurring in a fixed interval         |\n",
    "| Number of Trials or Events      | Requires a fixed number of trials or events (denoted as 'n')           | Does not require a fixed number of trials or events                           |\n",
    "| Probability of Success         | Requires a constant probability of success for each trial (denoted as 'p') | Does not require a fixed probability of success                               |\n",
    "| Shape                          | Bell-shaped curve when the number of trials is large                   | Skewed right shape                                                             |\n",
    "| Usage                          | Models outcomes with two possible outcomes (success or failure)        | Models rare events or situations with a low probability but high average rate |\n",
    "| Examples                       | Coin flips, pass/fail rates, defective items in a sample                | Number of accidents per day, number of phone calls received per hour          |\n",
    "\n",
    "\n"
   ]
  },
  {
   "cell_type": "markdown",
   "id": "6511d110-b099-4861-9fc6-f7596ca8e1da",
   "metadata": {},
   "source": [
    "## Q8. Generate a random sample of size 1000 from a Poisson distribution with mean 5 and calculate the sample mean and variance."
   ]
  },
  {
   "cell_type": "code",
   "execution_count": 16,
   "id": "0578d269-0f8b-43c4-b62b-3b2bd273a01e",
   "metadata": {},
   "outputs": [
    {
     "name": "stdout",
     "output_type": "stream",
     "text": [
      "4.981\n",
      "4.9366389999999996\n"
     ]
    }
   ],
   "source": [
    "import numpy as np\n",
    "\n",
    "sample = np.random.poisson(5, size = 1000)\n",
    "print(np.mean(sample))\n",
    "print(np.var(sample))"
   ]
  },
  {
   "cell_type": "markdown",
   "id": "1d300b7a-6f91-4a7b-b150-c86ad900802f",
   "metadata": {},
   "source": [
    "## Q9. How mean and variance are related in Binomial distribution and Poisson distribution?\n",
    "\n",
    "In both the Binomial distribution and the Poisson distribution, the mean and variance are related, but the nature of their relationship differs.\n",
    "\n",
    "1. In the Binomial distribution:\n",
    "\n",
    "* Mean: The mean of a Binomial distribution is given by the product of the number of trials (n) and the probability of success in each trial (p). Therefore, the mean is expressed as mean = n * p.\n",
    "* Variance: The variance of a Binomial distribution is given by the product of the number of trials (n), the probability of success in each trial (p), and the probability of failure in each trial (q = 1 - p). The variance is expressed as variance = n * p * q.\n",
    "The relationship between the mean and variance in the Binomial distribution is characterized by the equation variance = mean * q, where q = 1 - p. It demonstrates that as the probability of success in each trial approaches 0 or 1, the variance decreases and becomes closer to the mean. When p is closer to 0.5, the variance is at its maximum.\n",
    "\n",
    "2. In the Poisson distribution:\n",
    "\n",
    "* Mean: The mean of a Poisson distribution is equal to the parameter λ (lambda), which represents the average rate of events occurring in a fixed interval.\n",
    "* Variance: The variance of a Poisson distribution is also equal to λ. Therefore, the variance is expressed as variance = λ.\n",
    "In the Poisson distribution, the mean and variance are equal. This characteristic indicates that the spread or dispersion of the data is directly proportional to the average rate of events. In other words, the larger the mean (average rate), the greater the variability or dispersion around that mean.\n"
   ]
  },
  {
   "cell_type": "markdown",
   "id": "3d2f59a4-ee7d-40ea-beda-16de95e7ca8e",
   "metadata": {},
   "source": [
    "## Q10. In normal distribution with respect to mean position, where does the least frequent data appear?\n",
    "\n",
    "\n",
    "In a normal distribution, the least frequent data appears in the tails of the distribution, farthest away from the mean\n"
   ]
  },
  {
   "cell_type": "code",
   "execution_count": null,
   "id": "832d1890-38cc-4692-b76c-7006be5674f0",
   "metadata": {},
   "outputs": [],
   "source": []
  }
 ],
 "metadata": {
  "kernelspec": {
   "display_name": "Python 3 (ipykernel)",
   "language": "python",
   "name": "python3"
  },
  "language_info": {
   "codemirror_mode": {
    "name": "ipython",
    "version": 3
   },
   "file_extension": ".py",
   "mimetype": "text/x-python",
   "name": "python",
   "nbconvert_exporter": "python",
   "pygments_lexer": "ipython3",
   "version": "3.10.8"
  }
 },
 "nbformat": 4,
 "nbformat_minor": 5
}
