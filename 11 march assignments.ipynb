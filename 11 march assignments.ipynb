{
 "cells": [
  {
   "cell_type": "markdown",
   "id": "10bb0417-d151-4dbe-a44d-8b67ba133b82",
   "metadata": {},
   "source": [
    "## Q1: What is the difference between a t-test and a z-test? Provide an example scenario where you would use each type of test.\n"
   ]
  },
  {
   "cell_type": "markdown",
   "id": "08716862-0eec-4574-86c7-68fa02796d7d",
   "metadata": {},
   "source": [
    "|           | Z-Test                                       | T-Test                                       |\n",
    "|-----------|----------------------------------------------|----------------------------------------------|\n",
    "| Population Variance | Assumed to be known                         | Assumed to be unknown                        |\n",
    "| Sample Size          | Large sample size (n > 30)                  | Small or large sample size                   |\n",
    "| Distribution         | Assumes normal distribution of the population | Assumes normal distribution of the population |\n",
    "| Test Statistic       | Follows a standard normal distribution (z-distribution) | Follows a t-distribution with degrees of freedom |\n",
    "| Confidence Intervals | Used when the population variance is known | Used when the population variance is unknown |\n",
    "| Application          | Comparing sample mean to population mean   | Comparing means between groups or within a group |\n",
    "\n",
    "Example senario:\n",
    "\n",
    "* when the sample size is more than 30 and population standard deviation is given we will do Z-test.\n",
    "* when the sample size is less than 30 and population standard deviation is not given we will do t-test.\n",
    "* when the sample size is more than 30 and population standard deviation is not given we will do t-test.\n",
    "\n"
   ]
  },
  {
   "cell_type": "markdown",
   "id": "a349d4fd-93c2-4a20-b772-309c183181e2",
   "metadata": {},
   "source": [
    "## Q2: Differentiate between one-tailed and two-tailed tests."
   ]
  },
  {
   "cell_type": "markdown",
   "id": "6cd39ecc-2eee-463d-8d66-c4bc3270dc76",
   "metadata": {},
   "source": [
    "|                     | One-Tailed Test                                            | Two-Tailed Test                                                         |\n",
    "|---------------------|------------------------------------------------------------|-------------------------------------------------------------------------|\n",
    "| Direction of Effect | Tests for a specific direction (greater than or less than) | Tests for any significant difference (greater than or less than)         |\n",
    "| Hypotheses          | One alternative hypothesis                                 | Two alternative hypotheses                                              |\n",
    "| Critical Region     | One critical region on either side of the distribution     | Two critical regions on both sides of the distribution                   |\n",
    "| Alpha Level         | Divided by 2                                               | Not divided by 2                                                        |\n",
    "| Statistical Power   | Higher power                                               | Lower power                                                             |\n",
    "| Example             | Testing if a new drug is more effective than a placebo     | Testing if a new drug has any effect (either more or less effective)     |\n"
   ]
  },
  {
   "cell_type": "markdown",
   "id": "fc7c4f21-13b2-43a1-8c0f-efd7c98e450b",
   "metadata": {},
   "source": [
    "## Q3: Explain the concept of Type 1 and Type 2 errors in hypothesis testing. Provide an example scenario for each type of error."
   ]
  },
  {
   "cell_type": "markdown",
   "id": "e752c605-da1f-4119-b15c-33ff8cc054a5",
   "metadata": {},
   "source": [
    "### Type 1 Error (False Positive):\n",
    "\n",
    "#### Definition: Type 1 error occurs when the null hypothesis is rejected, but it is actually true.\n",
    "* Scenario: Suppose a company is testing a new drug claiming to cure a specific disease. The null hypothesis (H0) states that the drug has no effect, but in reality, it is true. However, the test results lead to rejecting the null hypothesis and concluding that the drug is effective. This is a Type 1 error because it falsely claims the drug's effectiveness.\n",
    "### Type 2 Error (False Negative):\n",
    "\n",
    "#### Definition: Type 2 error occurs when the null hypothesis is accepted, but it is actually false.\n",
    "* Scenario: Consider a criminal trial where the null hypothesis (H0) assumes the defendant is innocent. However, in reality, the defendant is guilty. If the jury accepts the null hypothesis and declares the defendant innocent, it is a Type 2 error because the true state (guilt) is not recognized."
   ]
  },
  {
   "cell_type": "markdown",
   "id": "c31a547a-f336-42c6-a8b4-30d948ac8559",
   "metadata": {},
   "source": [
    "## Q4:  Explain Bayes's theorem with an example."
   ]
  },
  {
   "cell_type": "markdown",
   "id": "f8359b2c-c89b-4240-aca7-73b204964c6e",
   "metadata": {},
   "source": [
    "Bayes's theorem is a fundamental concept in probability theory and statistics that allows us to update our beliefs or probabilities based on new evidence. It provides a framework for incorporating prior knowledge and adjusting it with new information.\n",
    "\n",
    "The formula for Bayes's theorem is as follows:\n",
    "\n",
    "P(A|B) = (P(B|A) * P(A)) / P(B)\n",
    "\n",
    "Where:\n",
    "\n",
    "* P(A|B) represents the probability of event A occurring given that event B has occurred.\n",
    "* P(B|A) represents the probability of event B occurring given that event A has occurred.\n",
    "* P(A) represents the prior probability of event A occurring.\n",
    "* P(B) represents the prior probability of event B occurring.\n",
    "\n",
    "e.g.-\n",
    "\n",
    "Suppose there is a rare medical condition, and only 1% of the population has it (P(A) = 0.01). There is a test to diagnose the condition, and it is 95% accurate, meaning that the probability of a positive test result given that a person has the condition is 0.95 (P(B|A) = 0.95). However, the test also produces false positives, with a 2% chance of a positive result when a person does not have the condition (P(B|not A) = 0.02\n",
    "\n",
    "Now, let's say a person takes the test, and it comes back positive (B). We want to calculate the probability that the person actually has the condition (A).\n",
    "\n",
    "Using Bayes's theorem, we can calculate:\n",
    "\n",
    "P(A|B) = (P(B|A) * P(A)) / P(B)\n",
    "\n",
    "P(A|B) = (0.95 * 0.01) / (0.95 * 0.01 + 0.02 * 0.99)\n",
    "\n",
    "P(A|B) ≈ 0.33\n",
    "\n",
    "The result indicates that the probability of the person actually having the condition given a positive test result is approximately 0.33 or 33%. Despite the positive test, there is still a significant chance of a false positive due to the rarity of the condition and the possibility of false positives."
   ]
  },
  {
   "cell_type": "markdown",
   "id": "ef2ec9ff-dfad-45b5-b672-b3b4602f5ecb",
   "metadata": {},
   "source": [
    "## Q5: What is a confidence interval? How to calculate the confidence interval, explain with an example.\n"
   ]
  },
  {
   "cell_type": "markdown",
   "id": "c9dff6ff-96c9-4934-80f7-2d28a639fbed",
   "metadata": {},
   "source": [
    "A confidence interval is a range of values that provides an estimated range of plausible values for an unknown population parameter. It is used to quantify the uncertainty associated with estimating the population parameter based on a sample.\n",
    "\n",
    "To calculate a confidence interval, you typically need three pieces of information:\n",
    "\n",
    "Sample mean (x̄): The average value observed in the sample.\n",
    "Standard deviation (σ) or standard error (SE): A measure of the variability of the sample or population.\n",
    "Confidence level (1 - α): The desired level of confidence, often expressed as a percentage (e.g., 95% confidence level).\n",
    "The formula to calculate a confidence interval for a population mean (μ) is:\n",
    "\n",
    "Confidence Interval = x̄ ± (Z * SE)\n",
    "\n",
    "Where:\n",
    "\n",
    "x̄ is the sample mean.\n",
    "Z is the Z-score corresponding to the desired confidence level.\n",
    "SE is the standard error of the mean, which is calculated as σ / √n, where σ is the standard deviation and n is the sample size.\n",
    "Example:\n",
    "Suppose we want to estimate the average height of adult males in a population. We take a random sample of 100 males and measure their heights. The sample mean height is 175 cm, and the standard deviation is 8 cm. We want to calculate a 95% confidence interval for the population mean height.\n",
    "\n",
    "First, we calculate the standard error of the mean:\n",
    "SE = 8 / √100 = 8 / 10 = 0.8\n",
    "\n",
    "Next, we find the Z-score corresponding to the desired confidence level. For a 95% confidence level, the Z-score is approximately 1.96 (from the standard normal distribution table).\n",
    "\n",
    "Finally, we calculate the confidence interval:\n",
    "Confidence Interval = 175 ± (1.96 * 0.8) = 175 ± 1.568 = (173.432, 176.568)\n",
    "\n",
    "The interpretation of this confidence interval is that we are 95% confident that the true population mean height falls between 173.432 cm and 176.568 cm based on the information from our sample."
   ]
  },
  {
   "cell_type": "markdown",
   "id": "195437f2-1f52-45d8-b8fa-0833234c149b",
   "metadata": {},
   "source": [
    "## Q6. Use Bayes' Theorem to calculate the probability of an event occurring given prior knowledge of the event's probability and new evidence. Provide a sample problem and solution.\n"
   ]
  },
  {
   "cell_type": "markdown",
   "id": "7762d788-d057-41c9-b275-b964a7fcc2fb",
   "metadata": {},
   "source": [
    "Suppose there is a rare medical condition, and only 1% of the population has it (P(A) = 0.01). There is a test to diagnose the condition, and it is 95% accurate, meaning that the probability of a positive test result given that a person has the condition is 0.95 (P(B|A) = 0.95). However, the test also produces false positives, with a 2% chance of a positive result when a person does not have the condition (P(B|not A) = 0.02\n",
    "\n",
    "Now, let's say a person takes the test, and it comes back positive (B). We want to calculate the probability that the person actually has the condition (A).\n",
    "\n",
    "Using Bayes's theorem, we can calculate:\n",
    "\n",
    "P(A|B) = (P(B|A) * P(A)) / P(B)\n",
    "\n",
    "P(A|B) = (0.95 * 0.01) / (0.95 * 0.01 + 0.02 * 0.99)\n",
    "\n",
    "P(A|B) ≈ 0.33\n",
    "\n",
    "The result indicates that the probability of the person actually having the condition given a positive test result is approximately 0.33 or 33%. Despite the positive test, there is still a significant chance of a false positive due to the rarity of the condition and the possibility of false positives."
   ]
  },
  {
   "cell_type": "markdown",
   "id": "3bfa131a-7934-4fb2-96e6-3d136e044b04",
   "metadata": {},
   "source": [
    "## Q7. Calculate the 95% confidence interval for a sample of data with a mean of 50 and a standard deviation of 5. Interpret the results."
   ]
  },
  {
   "cell_type": "markdown",
   "id": "da848bb4-63c0-4126-926b-e504c6d01f87",
   "metadata": {},
   "source": [
    "* area uder curve = 1- 0.025 = 0.975\n",
    "* Hence critical value(Z) = + 1.96\n",
    "* taking sample size = 50\n",
    "* lower confidence interval = mean - Z*(σ/n**0.5) = 50 - 1.96*(5/50**0.5) = 48.61\n",
    "* higher confidence interval = mean + Z*(σ/n**0.5) = 50 + 1.96*(5/50**0.5) = 51.39\n",
    "I am 95% cofident that the mean of the population lies between 48.61 to 51.39"
   ]
  },
  {
   "cell_type": "markdown",
   "id": "be5896da-1b85-4735-9b83-cebb6f0d2e30",
   "metadata": {},
   "source": [
    "## Q8. What is the margin of error in a confidence interval? How does sample size affect the margin of error? Provide an example of a scenario where a larger sample size would result in a smaller margin of error.\n"
   ]
  },
  {
   "cell_type": "markdown",
   "id": "4af1ac42-3b17-43fa-8db8-eb6d87cf0b66",
   "metadata": {},
   "source": [
    "The margin of error in a confidence interval is a measure of the uncertainty or variability associated with estimating the population parameter. It represents the range of values around the point estimate within which the true population parameter is likely to fall.\n",
    "\n",
    "Margin of Error = Z * (σ / √n)\n",
    "\n",
    "Where:\n",
    "\n",
    "Z is the Z-score corresponding to the desired confidence level.\n",
    "σ is the standard deviation or standard error of the sample.\n",
    "n is the sample size.\n",
    "As we can see from the formula, the margin of error is inversely proportional to the square root of the sample size (1/√n). This means that as the sample size increases, the denominator (√n) becomes larger, resulting in a smaller margin of error.\n",
    "\n",
    "Example scenario:\n",
    "Suppose you want to estimate the average age of customers visiting a shopping mall. You take a sample of 50 customers and calculate the sample mean age. The standard deviation of the sample is 10 years. Using this sample, you calculate a 95% confidence interval with a certain margin of error.\n",
    "\n",
    "Now, let's consider a scenario where you decide to increase the sample size to 200 customers. With the larger sample size, the denominator (√n) in the margin of error formula becomes larger, resulting in a smaller margin of error compared to the previous scenario with a sample size of 50. This means that the range of plausible values for the population mean age becomes narrower, providing a more precise estimate of the true population mean."
   ]
  },
  {
   "cell_type": "markdown",
   "id": "a624b70d-e440-426b-9f22-db345d454e05",
   "metadata": {},
   "source": [
    "## Q9. Calculate the z-score for a data point with a value of 75, a population mean of 70, and a population standard deviation of 5. Interpret the results."
   ]
  },
  {
   "cell_type": "markdown",
   "id": "6f101155-b30b-422d-b0f9-e7ce1134598b",
   "metadata": {},
   "source": [
    "\n",
    "To calculate the z-score for a data point, we can use the formula:\n",
    "\n",
    "z = (x - μ) / σ\n",
    "\n",
    "where:\n",
    "\n",
    "x is the data point value (75 in this case)\n",
    "μ is the population mean (70 in this case)\n",
    "σ is the population standard deviation (5 in this case)\n",
    "Substituting the given values into the formula:\n",
    "\n",
    "z = (75 - 70) / 5 = 5 / 5 = 1\n",
    "\n",
    "The calculated z-score is 1.\n",
    "\n",
    "Interpretation:\n",
    "The z-score measures how many standard deviations away from the population mean a data point is. In this case, the z-score of 1 indicates that the data point of 75 is one standard deviation above the population mean of 70."
   ]
  },
  {
   "cell_type": "markdown",
   "id": "641162ef-d471-4f94-a363-870b884b158c",
   "metadata": {},
   "source": [
    "## Q10. In a study of the effectiveness of a new weight loss drug, a sample of 50 participants lost an average of 6 pounds with a standard deviation of 2.5 pounds. Conduct a hypothesis test to determine if the drug is significantly effective at a 95% confidence level using a t-test.\n"
   ]
  },
  {
   "cell_type": "markdown",
   "id": "ef9f752d-8990-4c71-879c-e915f10fc1d4",
   "metadata": {},
   "source": [
    "1. Null hypothesis(H0) = The average weight loss with the drug is not significantly different from zero.\n",
    "2. Alternative hypothesis(H1) = The average weight loss with the drug is significantly different from zero.\n",
    "3. t = (X-μ)/(sample s.d/n**0.5) = (6-0)/(2.5/√ 50) = -6.667\n",
    "4. degree of freedom(dof) = n -1 = 50 -1 = 49\n",
    "5. According to t-calculator t value is 2.009575\n",
    "as t = 16.97 is greater than 2.009575 hence, reject the null hypothesis\n",
    "\n",
    "hence, The average weight loss with the drug is significantly different from zero."
   ]
  },
  {
   "cell_type": "markdown",
   "id": "09522fc5-7850-4b2a-a9f7-3da9b57e86d4",
   "metadata": {},
   "source": [
    "## Q11. In a survey of 500 people, 65% reported being satisfied with their current job. Calculate the 95% confidence interval for the true proportion of people who are satisfied with their job.\n"
   ]
  },
  {
   "cell_type": "markdown",
   "id": "dae65b8c-5745-42ac-abaf-57b1df0bf45c",
   "metadata": {},
   "source": [
    "To calculate the 95% confidence interval for the proportion of people satisfied with their job, we can use the formula:\n",
    "\n",
    "Confidence Interval = p̂ ± Z * √((p̂ * (1 - p̂)) / n)\n",
    "\n",
    "where:\n",
    "\n",
    "p̂ is the sample proportion (65% or 0.65 in this case)\n",
    "Z is the Z-score corresponding to the desired confidence level (for 95% confidence level, Z ≈ 1.96)\n",
    "n is the sample size (500 in this case)\n",
    "Substituting the given values into the formula:\n",
    "\n",
    "Confidence Interval = 0.65 ± 1.96 * √((0.65 * (1 - 0.65)) / 500)\n",
    "\n",
    "Calculating the values:\n",
    "\n",
    "Confidence Interval = 0.65 ± 1.96 * √((0.65 * 0.35) / 500)\n",
    "\n",
    "Confidence Interval ≈ 0.65 ± 1.96 * √(0.2275 / 500)\n",
    "\n",
    "Confidence Interval ≈ 0.65 ± 1.96 * 0.02132\n",
    "\n",
    "Confidence Interval ≈ 0.65 ± 0.04178\n",
    "\n",
    "The 95% confidence interval for the true proportion of people satisfied with their job is approximately 0.6082 to 0.6918."
   ]
  },
  {
   "cell_type": "markdown",
   "id": "8ce44cc8-143d-4775-bd51-1e22673e6ab0",
   "metadata": {},
   "source": [
    "## Q12. A researcher is testing the effectiveness of two different teaching methods on student performance. Sample A has a mean score of 85 with a standard deviation of 6, while sample B has a mean score of 82 with a standard deviation of 5. Conduct a hypothesis test to determine if the two teaching methods have a significant difference in student performance using a t-test with a significance level of 0.01.\n"
   ]
  },
  {
   "cell_type": "markdown",
   "id": "7d7c5512-153a-4aa4-a38d-ea863ecd7b21",
   "metadata": {},
   "source": [
    "To conduct a hypothesis test to determine if there is a significant difference in student performance between two teaching methods, we can use a two-sample t-test.\n",
    "\n",
    "The null hypothesis (H0) is that there is no significant difference between the two teaching methods, and the alternative hypothesis (Ha) is that there is a significant difference.\n",
    "\n",
    "H0: μ1 = μ2 (The population means of the two teaching methods are equal)\n",
    "Ha: μ1 ≠ μ2 (The population means of the two teaching methods are not equal)\n",
    "\n",
    "We will use a significance level of 0.01, which corresponds to a 99% confidence level.\n",
    "\n",
    "To perform the two-sample t-test, we calculate the t-statistic using the formula:\n",
    "\n",
    "t = (x̄1 - x̄2) / √((s1^2 / n1) + (s2^2 / n2))\n",
    "\n",
    "where:\n",
    "\n",
    "x̄1 and x̄2 are the sample means of Sample A and Sample B, respectively\n",
    "s1 and s2 are the sample standard deviations of Sample A and Sample B, respectively\n",
    "n1 and n2 are the sample sizes of Sample A and Sample B, respectively\n",
    "Substituting the given values into the formula:\n",
    "\n",
    "t = (85 - 82) / √((6^2 / n1) + (5^2 / n2))\n",
    "\n",
    "Now we need to calculate the degrees of freedom (df) using the formula:\n",
    "\n",
    "df = (s1^2 / n1 + s2^2 / n2)^2 / ((s1^2 / n1)^2 / (n1 - 1) + (s2^2 / n2)^2 / (n2 - 1))\n",
    "\n",
    "Substituting the given values into the formula:\n",
    "\n",
    "df = ((6^2 / n1) + (5^2 / n2))^2 / (((6^2 / n1)^2 / (n1 - 1)) + ((5^2 / n2)^2 / (n2 - 1)))\n",
    "\n",
    "Once we have calculated the t-statistic and the degrees of freedom, we can compare the t-statistic to the critical t-value at the desired significance level to determine if we reject or fail to reject the null hypothesis.\n",
    "\n",
    "If the calculated t-statistic is greater than the critical t-value (in the upper or lower tail depending on the alternative hypothesis), we reject the null hypothesis and conclude that there is a significant difference in student performance between the two teaching methods. If the calculated t-statistic is less than the critical t-value, we fail to reject the null hypothesis and conclude that there is not enough evidence to suggest a significant difference."
   ]
  },
  {
   "cell_type": "markdown",
   "id": "823871c5-2968-42cc-a8a7-ff6ab8d1e79b",
   "metadata": {},
   "source": [
    "## Q13. A population has a mean of 60 and a standard deviation of 8. A sample of 50 observations has a mean of 65. Calculate the 90% confidence interval for the true population mean."
   ]
  },
  {
   "cell_type": "markdown",
   "id": "65af1df5-67fd-414b-bb60-c739071015f7",
   "metadata": {},
   "source": [
    "* area uder curve = 1- 0.05 = 0.95\n",
    "* Hence critical value(Z) = + 1.65\n",
    "* taking sample size = 50\n",
    "* lower confidence interval = mean - Z*(σ/n**0.5) = 65 - 1.65*(8/50**0.5) = 63.13\n",
    "* higher confidence interval = mean + Z*(σ/n**0.5) = 65 + 1.65*(8/50**0.5) = 66.86\n",
    "\n",
    "The 90% confidence interval (63.14, 66.86) means that we are 90% confident that the true population mean falls within this range based on the given sample. However, since the population mean is given as 60, it is not expected to fall within the calculated confidence interval. This discrepancy suggests that the sample mean of 65 may not be an accurate estimate of the true population mean, or there may be other factors affecting the difference between the sample mean and the population mean."
   ]
  },
  {
   "cell_type": "markdown",
   "id": "efc1e414-d42d-49ce-a995-e9e2dac7b148",
   "metadata": {},
   "source": [
    "## Q14. In a study of the effects of caffeine on reaction time, a sample of 30 participants had an average reaction time of 0.25 seconds with a standard deviation of 0.05 seconds. Conduct a hypothesis test to determine if the caffeine has a significant effect on reaction time at a 90% confidence level using a t-test."
   ]
  },
  {
   "cell_type": "markdown",
   "id": "70b60a3f-0856-46fc-a190-d34287ba0500",
   "metadata": {},
   "source": [
    "1. Null hypothesis(H0) = Caffeine has no significant effect on reaction time.\n",
    "2. Alternative hypothesis(H1) = Caffeine has a significant effect on reaction time.\n",
    "3. t = (X-μ)/(sample s.d/n**0.5) = (0.25-0)/(0.05/√ 30) = 27.38   ( hypothesized population mean (μ0) = 0 (assuming no effect of caffeine))\n",
    "4. degree of freedom(dof) = n -1 = 30 -1 = 29\n",
    "5. According to t-calculator t value is 1.699127\n",
    "\n",
    "as t = 27.38 is greater than 1.699127 hence, reject the null hypothesis\n",
    "\n",
    "Based on the calculated test statistic and the critical value, we conclude that there is sufficient evidence to suggest that caffeine has a significant effect on reaction time at a 90% confidence level."
   ]
  }
 ],
 "metadata": {
  "kernelspec": {
   "display_name": "Python 3 (ipykernel)",
   "language": "python",
   "name": "python3"
  },
  "language_info": {
   "codemirror_mode": {
    "name": "ipython",
    "version": 3
   },
   "file_extension": ".py",
   "mimetype": "text/x-python",
   "name": "python",
   "nbconvert_exporter": "python",
   "pygments_lexer": "ipython3",
   "version": "3.10.8"
  }
 },
 "nbformat": 4,
 "nbformat_minor": 5
}
