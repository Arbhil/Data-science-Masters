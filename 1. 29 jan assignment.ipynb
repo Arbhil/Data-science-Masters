{
 "cells": [
  {
   "cell_type": "markdown",
   "id": "aa272945-122b-4d33-938c-0c780fcdad0c",
   "metadata": {},
   "source": [
    "## 1. Who dovolopod Python ProgrammJng language?\n",
    "\n",
    "### Python is created by Guido van Rossum and first released in the year 1991.\n",
    "\n",
    "## 2. Which type of Programming does Python support?\n",
    "### Object-Oriented programming\n",
    "## 3. Is Python case sensitive when dealing with Identifiers?\n",
    "### As Python can differentiate between upper case and lower case characters that's why it is a case sensitive languagewhen dealing with identifires.\n",
    "## 4. What ls the correct extension of tho Python file?\n",
    "### .py but .pyi, .pyc, .pyd, .pyo, .pyw, .pyz can also used to create python document.\n",
    "## 5. Is Python code compiled or Interpreted? \n",
    "### Python is an interpreted language, the source code of a Python program is converted into bytecode that is then executed by the Python virtual machine.\n",
    "## 7. State a character used to give single-line comments In Python?\n",
    "### hash character(#) is used to give single line comments in python.\n",
    "## 8. Mention functions which can help us to find the version of python that we are currently working on? \n",
    "### 'sys.version' or \"import sys\"\n",
    "## 9. Python supports the creation of anonymous functions at runtime, using a construct called \n",
    "### lambda\n",
    "## 10. What does pip stand for python?\n",
    "### Preferred Installer Program\n",
    "## 11. Mention a few built-in functions In python?\n",
    "### float(), input(), range(), type() etc.\n",
    "## 12. What Is tho maximum possilble length of an Identifier in Python?\n",
    "### 79 characters\n",
    "## 13. What are the benoflts of using Python?\n",
    "### i. Its reusable and maintainable as compared to other languages. Its easier to understand. It supports all the modern features like OOPs and functional programming.(ii) The same program which is written in other high-level languages like c++ or java can be written in one-third or one-fifth line of codes.(iii) Python already has a lot of inbuilt libraries that come with the standard python package which you download from its official site.\n",
    "\n",
    "\n",
    "## 14. How is memory managed In Python? \n",
    "### Memory is managed by a private heap containing all Python objects and data structures. The management of this private heap is ensured internally by the Python memory manager.\n",
    "## 15. How to Install Python on Windows and set path variables?\n",
    " * (i) Right-clicking This PC and going to Properties. \n",
    " (ii)Clicking on the Advanced system settings in the menu on the left. \n",
    " (iii)Clicking on the Environment Variables button o​n the bottom right.\n",
    " (iv) In the System variables section, selecting the Path variable and clicking on Edit. The next screen will show all the directories that are currently a part of the PATH variable. \n",
    " Clicking on New and entering Python’s install directory.\n",
    "### now python can directly be used through command prompt.\n",
    "## 16. Is Indentation required in python?\n",
    "### yes, indentation is very important in python language.\n",
    "\n"
   ]
  },
  {
   "cell_type": "markdown",
   "id": "5ea94a50-7eac-45a7-8517-b2b0b9183552",
   "metadata": {},
   "source": [
    "## 6. Name a few blocks of code used to define In Python language?\n",
    "#### in the below example indentation is defining bolck code for python"
   ]
  },
  {
   "cell_type": "code",
   "execution_count": null,
   "id": "85306dd3-3071-415d-be46-9f968dbf57d8",
   "metadata": {},
   "outputs": [],
   "source": [
    "height = 160\n",
    "if height>160:\n",
    "    print(\"You are tall\")\n",
    "else:\n",
    "    print(\"You are short\")\n",
    "    "
   ]
  },
  {
   "cell_type": "code",
   "execution_count": null,
   "id": "78f54faf-fcea-4aac-9f48-21f0b2e9590b",
   "metadata": {},
   "outputs": [],
   "source": []
  },
  {
   "cell_type": "code",
   "execution_count": null,
   "id": "579e7e32-5b62-4872-9148-0efc20924646",
   "metadata": {},
   "outputs": [],
   "source": []
  },
  {
   "cell_type": "code",
   "execution_count": null,
   "id": "3778d0e2-c29f-4595-b72e-bd2cf23ab448",
   "metadata": {},
   "outputs": [],
   "source": []
  },
  {
   "cell_type": "code",
   "execution_count": null,
   "id": "c4a2cb37-bba2-488a-abf8-ed4f7ab83137",
   "metadata": {},
   "outputs": [],
   "source": []
  },
  {
   "cell_type": "code",
   "execution_count": null,
   "id": "d7729093-e627-4442-aa05-9640218e26d2",
   "metadata": {},
   "outputs": [],
   "source": []
  },
  {
   "cell_type": "code",
   "execution_count": null,
   "id": "25c71e84-afc3-4eff-81b6-88e1c5547bbd",
   "metadata": {},
   "outputs": [],
   "source": []
  }
 ],
 "metadata": {
  "kernelspec": {
   "display_name": "Python 3 (ipykernel)",
   "language": "python",
   "name": "python3"
  },
  "language_info": {
   "codemirror_mode": {
    "name": "ipython",
    "version": 3
   },
   "file_extension": ".py",
   "mimetype": "text/x-python",
   "name": "python",
   "nbconvert_exporter": "python",
   "pygments_lexer": "ipython3",
   "version": "3.10.8"
  }
 },
 "nbformat": 4,
 "nbformat_minor": 5
}
