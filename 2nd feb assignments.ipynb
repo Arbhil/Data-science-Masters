{
 "cells": [
  {
   "cell_type": "markdown",
   "id": "f1d3dd50-09a5-46e6-b52b-b5ad0f88116c",
   "metadata": {},
   "source": [
    "## Q1. What are the characteristics of the tuples? Is tuple immutable?\n",
    "##### Tupile items are-\n",
    "* ordered\n",
    "* unchangeble\n",
    "* can store duplicate values\n",
    "* are indexed, the first item has index [0], the second item has index [1]\n",
    "##### -> Yes, tuples are immutable.\n",
    "\n",
    "\n",
    "\n",
    "\n",
    "\n",
    "\n",
    "\n"
   ]
  },
  {
   "cell_type": "markdown",
   "id": "5f017930-8e99-4fad-9e0a-47d107f4fe8f",
   "metadata": {},
   "source": [
    "## Q2. What are the two tuple methods in python? Give an example of each method. Give a reason why tuples have only two in-built methods as compared to Lists.\n",
    "#### There are two built-in methods for tuples\n",
    "* index()\n",
    "* count()\n",
    "##### tuples have only two in-built methods as compared to Lists because items in tuple are -\n",
    "* immutable\n",
    "* unchangeble"
   ]
  },
  {
   "cell_type": "code",
   "execution_count": 4,
   "id": "6786a807-6ab9-4346-be46-cb086250295c",
   "metadata": {},
   "outputs": [
    {
     "name": "stdout",
     "output_type": "stream",
     "text": [
      "7\n",
      "2\n"
     ]
    }
   ],
   "source": [
    "## index() & count()\n",
    "tuple1 = (1,2,2,3,3,4,7,'rahul','sidhu')\n",
    "print(tuple1.index('rahul'))\n",
    "print(tuple1.count(3))"
   ]
  },
  {
   "cell_type": "markdown",
   "id": "1d7517d7-ce44-420b-b6fd-7ddca9a93249",
   "metadata": {},
   "source": [
    "\n",
    "## Q3.  Which collection datatypes in python do not allow duplicate items? Write a code using a set to remove duplicates from the given list.\n",
    "#### Sets and dictionery do not allow duplicate items."
   ]
  },
  {
   "cell_type": "code",
   "execution_count": 10,
   "id": "89817eef-e624-4d73-afa3-59a30b0a56e9",
   "metadata": {},
   "outputs": [
    {
     "name": "stdout",
     "output_type": "stream",
     "text": [
      "[1, 2, 3, 4]\n",
      "{1, 2, 3, 4, 5}\n",
      "{'Ram': 2, 'a': 1, 'b': 2, 'c': 3}\n"
     ]
    }
   ],
   "source": [
    "## for example\n",
    "List = [1, 1, 1, 2, 1, 3, 1, 4, 2, 1, 2, 2, 2, 3, 2, 4, 3, 1, 3, 2, 3, 3, 3, 4, 4, 1, 4, 2, 4, 3, 4, 4]\n",
    "set1 = {1,2,3,4,5,5,3,2,1}\n",
    "dictionary1= {'Ram': 2, 'a': 1, 'b': 2, 'c': 3, 'b': 2, 'c':3}\n",
    "print(list(set(List)))\n",
    "print(set1)\n",
    "print(dictionary1)"
   ]
  },
  {
   "cell_type": "markdown",
   "id": "4bdeb19c-1adf-4d4d-9760-82b59c377bd6",
   "metadata": {},
   "source": [
    "## Q4. Explain the difference between the union() and update() methods for a set. Give an example of each method.\n",
    "#### union() temporarily update a set, it means if we call the funtion later it will show the prevous one that we made initally. But update() parmanently change the set."
   ]
  },
  {
   "cell_type": "code",
   "execution_count": 13,
   "id": "fff3c227-8e70-4d9a-8790-97f242f16195",
   "metadata": {},
   "outputs": [
    {
     "name": "stdout",
     "output_type": "stream",
     "text": [
      "{1, 2, 3, 4, 5}\n",
      "{1, 2, 3, 4, 5, 6, 7}\n"
     ]
    }
   ],
   "source": [
    "### union() vs update()\n",
    "set2={1, 2, 3, 4, 5}\n",
    "set3={4,5,6,7}\n",
    "set2.union(set3)\n",
    "print(set2)\n",
    "set2.update(set3)\n",
    "print(set2)"
   ]
  },
  {
   "cell_type": "markdown",
   "id": "04bc2aa6-2b61-4f15-b533-a3e594c81497",
   "metadata": {},
   "source": [
    "## Q5. What is a dictionary? Give an example. Also, state whether a dictionary is ordered or unordered.\n",
    "#### Dictionaries is one of 4 built-in data types in Python used to store collections of data and  are used to store data values in key:value pairs.\n",
    "#### Python version 3.7, dictionaries are ordered. In Python 3.6 and earlier, dictionaries are unordered."
   ]
  },
  {
   "cell_type": "code",
   "execution_count": null,
   "id": "17098f56-1775-4615-a72d-2d05474bed0b",
   "metadata": {},
   "outputs": [],
   "source": [
    "## example\n",
    "dictionary1= {'Ram': 2, 'a': 1, 'b': 2, 'c': 3, 'b': 2, 'c':3}"
   ]
  },
  {
   "cell_type": "markdown",
   "id": "26441532-0f60-458d-b6e9-190fcb5dda48",
   "metadata": {},
   "source": [
    "## Q6. Can we create a nested dictionary? If so, please give an example by creating a simple one-level nested dictionary.\n",
    "#### Yes, we can create nasted dictionary."
   ]
  },
  {
   "cell_type": "code",
   "execution_count": 14,
   "id": "4fa35fca-8fbd-40a7-a376-5ce498eb923d",
   "metadata": {},
   "outputs": [
    {
     "name": "stdout",
     "output_type": "stream",
     "text": [
      "{'key1': {'key1.1': 11, 'key1.2': 12}, 'key2': 13}\n"
     ]
    }
   ],
   "source": [
    "## Example\n",
    "dict1 = {'key1': {'key1.1': 11, 'key1.2': 12}, 'key2': 13}\n",
    "print(dict1)"
   ]
  },
  {
   "cell_type": "markdown",
   "id": "3aa6a03e-7853-4cee-92e8-a9eea8a4d7aa",
   "metadata": {},
   "source": [
    "## Q7. Using setdefault() method, create key named topics in the given dictionary and also add the value of the key as this list ['Python', 'Machine Learning’, 'Deep Learning'] and dict1 = {'language' : 'Python', 'course': 'Data Science Masters'}"
   ]
  },
  {
   "cell_type": "code",
   "execution_count": 17,
   "id": "16f05624-0221-4125-8b67-257058e5f37a",
   "metadata": {},
   "outputs": [
    {
     "name": "stdout",
     "output_type": "stream",
     "text": [
      "{'language': 'Python', 'course': 'Data Science Masters', 'key1': 'Python', 'key2': 'Machine Learning', 'key3': 'Deep Learning'}\n"
     ]
    }
   ],
   "source": [
    "dict1 = {'language' : 'Python', 'course': 'Data Science Masters'}\n",
    "dict1.setdefault('key1','Python')\n",
    "dict1.setdefault('key2','Machine Learning')\n",
    "dict1.setdefault('key3','Deep Learning')\n",
    "print(dict1)"
   ]
  },
  {
   "cell_type": "markdown",
   "id": "68c3cde4-10e1-47f3-825f-3a4c3bf2f709",
   "metadata": {},
   "source": [
    "## Q8. What are the three view objects in dictionaries? Use the three in-built methods in python to display these three view objects for the given dictionary. dict1 = {'Sport': 'Cricket' , 'Teams': ['India', 'Australia', 'England', 'South Africa', 'Sri Lanka', 'New Zealand']}\n",
    "\n",
    "#### The three view objects are-\n",
    "* keys()\n",
    "* values()\n",
    "* items()"
   ]
  },
  {
   "cell_type": "code",
   "execution_count": 19,
   "id": "db106af0-30c4-4531-856c-d866b85b762f",
   "metadata": {},
   "outputs": [
    {
     "name": "stdout",
     "output_type": "stream",
     "text": [
      "dict_keys(['Sport', 'Teams'])\n",
      "dict_values(['Cricket', ['India', 'Australia', 'England', 'South Africa', 'Sri Lanka', 'New Zealand']])\n",
      "dict_items([('Sport', 'Cricket'), ('Teams', ['India', 'Australia', 'England', 'South Africa', 'Sri Lanka', 'New Zealand'])])\n"
     ]
    }
   ],
   "source": [
    "dict1 = {'Sport': 'Cricket' , 'Teams': ['India', 'Australia', 'England', 'South Africa', 'Sri Lanka', 'New Zealand']}\n",
    "print(dict1.keys())\n",
    "print(dict1.values())\n",
    "print(dict1.items())"
   ]
  },
  {
   "cell_type": "code",
   "execution_count": null,
   "id": "06c4345e-3c2d-4300-a469-de6cfa82c2cd",
   "metadata": {},
   "outputs": [],
   "source": []
  },
  {
   "cell_type": "code",
   "execution_count": null,
   "id": "88f970fc-fb64-43c7-95a4-f9c34f7ce116",
   "metadata": {},
   "outputs": [],
   "source": []
  },
  {
   "cell_type": "code",
   "execution_count": null,
   "id": "629d667b-16a9-4631-95ba-6a172ee77a53",
   "metadata": {},
   "outputs": [],
   "source": []
  },
  {
   "cell_type": "code",
   "execution_count": null,
   "id": "3d8aa23a-8b7e-49d3-a727-a5c2bee9fe5f",
   "metadata": {},
   "outputs": [],
   "source": []
  }
 ],
 "metadata": {
  "kernelspec": {
   "display_name": "Python 3 (ipykernel)",
   "language": "python",
   "name": "python3"
  },
  "language_info": {
   "codemirror_mode": {
    "name": "ipython",
    "version": 3
   },
   "file_extension": ".py",
   "mimetype": "text/x-python",
   "name": "python",
   "nbconvert_exporter": "python",
   "pygments_lexer": "ipython3",
   "version": "3.10.8"
  }
 },
 "nbformat": 4,
 "nbformat_minor": 5
}
