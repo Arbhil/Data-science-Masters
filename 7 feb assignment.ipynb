{
 "cells": [
  {
   "cell_type": "markdown",
   "id": "d546f1c5-5552-4c50-abf9-734784baec58",
   "metadata": {},
   "source": [
    "### Q1. You are writing code for a company. The requirement of the company is that you create a python function that will check whether the password entered by the user is correct or not. The function should take the password as input and return the string “Valid Password” if the entered password follows the below-given password guidelines else it should return “Invalid Password”.\n",
    "\n",
    "\n",
    "Note: \n",
    "1. The Password should contain at least two uppercase letters and at least two lowercase letters.\n",
    "\n",
    "2. The Password should contain at least a number and three special characters.\n",
    "\n",
    "3. The length of the password should be 10 characters long.\n",
    "\n",
    "\n"
   ]
  },
  {
   "cell_type": "code",
   "execution_count": 11,
   "id": "4d2ce730-fd90-4c70-b6c3-a901c3078078",
   "metadata": {},
   "outputs": [
    {
     "name": "stdin",
     "output_type": "stream",
     "text": [
      "Please enter your password ArbhilManna@#$%123\n"
     ]
    },
    {
     "name": "stdout",
     "output_type": "stream",
     "text": [
      "Valid password\n"
     ]
    }
   ],
   "source": [
    "letters1 = ['a', 'b', 'c', 'd', 'e', 'f', 'g', 'h', 'i', 'j', 'k', 'l', 'm', 'n', 'o', 'p', 'q', 'r', 's', 't', 'u', 'v', 'w', 'x', 'y', 'z']\n",
    "letters2 = ['A', 'B', 'C', 'D', 'E', 'F', 'G', 'H', 'I', 'J', 'K', 'L', 'M', 'N', 'O', 'P', 'Q', 'R', 'S', 'T', 'U', 'V', 'W', 'X', 'Y', 'Z']\n",
    "numbers = ['0', '1', '2', '3', '4', '5', '6', '7', '8', '9']\n",
    "symbols = ['!', '#', '$', '%', '&', '(', ')', '*', '+','_']\n",
    "\n",
    "list2 = []\n",
    "list3 = []\n",
    "list4 = []\n",
    "list5 = []\n",
    "def password_check():\n",
    "    list1 = list(input(\"Please enter your password\"))\n",
    "    for i in list1:\n",
    "        if i in letters1:\n",
    "            list2.append(i)\n",
    "        elif i in letters2:\n",
    "            list3.append(i)\n",
    "        elif i in numbers:\n",
    "            list4.append(i)\n",
    "        else:\n",
    "            list5.append(i)\n",
    "    if len(list1)> 10:\n",
    "        if len(list2)>=2 and len(list3)>=2 and len(list4)>=1 and len(list5)>=3:\n",
    "            print(\"Valid password\")\n",
    "    else:\n",
    "        print(\"Invalid password\")\n",
    "password_check()"
   ]
  },
  {
   "cell_type": "markdown",
   "id": "71572032-9048-4502-b614-58ffd9be0e87",
   "metadata": {},
   "source": [
    "### Q2. Solve the below-given questions using at least one of the following: \n",
    "\n",
    "1. Lambda function\n",
    "2. Filter function\n",
    "3. Map function\n",
    "4. List Comprehension\n",
    "* Check if the string starts with a particular letter\n",
    "* Check if the string is numeric\n",
    "* Sort a list of tuples having fruit names and their quantity. [(\"mango\",99),(\"orange\",80), (\"grapes\", 1000)]\n",
    "* Find the squares of numbers from 1 to 10\n",
    "* Find the cube root of numbers from 1 to 10\n",
    "* Check if a given number is even\n",
    "* Filter odd numbers from the given list.\n",
    "\n",
    " [1,2,3,4,5,6,7,8,9,10]\n",
    "* Sort a list of integers into positive and negative integers lists.\n",
    "\n",
    " [1,2,3,4,5,6,-1,-2,-3,-4,-5,0]"
   ]
  },
  {
   "cell_type": "code",
   "execution_count": 43,
   "id": "f486eda4-6c44-40af-91bd-908b6407371d",
   "metadata": {},
   "outputs": [
    {
     "name": "stdin",
     "output_type": "stream",
     "text": [
      "Please enter your name Arhgufd\n"
     ]
    },
    {
     "name": "stdout",
     "output_type": "stream",
     "text": [
      "Yes, the string is starting with \"a\"\n"
     ]
    }
   ],
   "source": [
    "## Check if the string starts with a particular letter\n",
    "## let the letter be a\n",
    "x= input(\"Please enter your name\").lower()[0]\n",
    "function = lambda x:print('Yes, the string is starting with \"a\"') if x == 'a'  else print('No, the string is not starting with \"a\"')\n",
    "function(x)\n"
   ]
  },
  {
   "cell_type": "code",
   "execution_count": 49,
   "id": "693b9d5d-ca0b-47b5-8408-78457742ac9b",
   "metadata": {},
   "outputs": [
    {
     "name": "stdin",
     "output_type": "stream",
     "text": [
      "Please enter your string 8737jh\n"
     ]
    },
    {
     "name": "stdout",
     "output_type": "stream",
     "text": [
      "the string is not numeric\n"
     ]
    }
   ],
   "source": [
    "## Check if the string is numeric\n",
    "numbers = ['0', '1', '2', '3', '4', '5', '6', '7', '8', '9']\n",
    "x=list(input(\"Please enter your string\"))\n",
    "# number_checker = lambda: print(\"The string is numeric\") if type(x)== int else print(\"the string is not numeric\")\n",
    "#number_checker(x)\n",
    "list1 =[]\n",
    "for i in x:\n",
    "    if i not in numbers:\n",
    "        list1.append(i)\n",
    "number_checker = lambda: print(\"The string is numeric\") if len(list1)== 0 else print(\"the string is not numeric\")\n",
    "number_checker()"
   ]
  },
  {
   "cell_type": "code",
   "execution_count": 26,
   "id": "53b1f990-4c9b-4518-b9f3-92752c8d2d4b",
   "metadata": {},
   "outputs": [
    {
     "name": "stdout",
     "output_type": "stream",
     "text": [
      "[('grapes', 1000), ('mango', 99), ('orange', 80)]\n"
     ]
    }
   ],
   "source": [
    "## Sort a list of tuples having fruit names and their quantity. [(\"mango\",99),(\"orange\",80), (\"grapes\", 1000)]\n",
    "list1 = [(\"mango\",99),(\"orange\",80), (\"grapes\", 1000)]\n",
    "sorted_fruits = sorted(list1, key=lambda x: x[1], reverse=True)\n",
    "\n",
    "print(sorted_fruits)"
   ]
  },
  {
   "cell_type": "code",
   "execution_count": 34,
   "id": "845973ce-c1e2-4e2e-b3c2-e894a7a98e28",
   "metadata": {},
   "outputs": [
    {
     "data": {
      "text/plain": [
       "[1, 4, 9, 16, 25, 36, 49, 64, 81, 100]"
      ]
     },
     "execution_count": 34,
     "metadata": {},
     "output_type": "execute_result"
    }
   ],
   "source": [
    "## Find the squares of numbers from 1 to 10\n",
    "list1 = []\n",
    "for y in range(1,11):\n",
    "    list1.append(y)\n",
    "s = list(map(lambda x : x**2, list1))\n",
    "s"
   ]
  },
  {
   "cell_type": "code",
   "execution_count": 36,
   "id": "6f0addbc-5ed6-4c7a-be95-0f237a85a579",
   "metadata": {},
   "outputs": [
    {
     "data": {
      "text/plain": [
       "[1.0,\n",
       " 1.2599210498948732,\n",
       " 1.4422495703074083,\n",
       " 1.5874010519681994,\n",
       " 1.7099759466766968,\n",
       " 1.8171205928321397,\n",
       " 1.912931182772389,\n",
       " 2.0,\n",
       " 2.080083823051904,\n",
       " 2.154434690031884]"
      ]
     },
     "execution_count": 36,
     "metadata": {},
     "output_type": "execute_result"
    }
   ],
   "source": [
    "## Find the cube root of numbers from 1 to 10\n",
    "list2 = []\n",
    "for y in range(1,11):\n",
    "    list2.append(y)\n",
    "s = list(map(lambda x : x**(1/3), list1))\n",
    "s"
   ]
  },
  {
   "cell_type": "code",
   "execution_count": 41,
   "id": "a1211877-9e0a-4d07-8ef3-5dfee5a048c3",
   "metadata": {},
   "outputs": [
    {
     "name": "stdin",
     "output_type": "stream",
     "text": [
      "Enter a number   63\n"
     ]
    },
    {
     "name": "stdout",
     "output_type": "stream",
     "text": [
      "Odd Number\n"
     ]
    }
   ],
   "source": [
    "## Check if a given number is even\n",
    "number = int(input(\"Enter a number  \"))\n",
    "odd_even = lambda number: \"Even Number\" if number % 2 == 0 else \"Odd Number\"\n",
    "\n",
    "print(odd_even(number))"
   ]
  },
  {
   "cell_type": "code",
   "execution_count": 51,
   "id": "aecb3567-f870-4be5-a81f-3959f229e2bb",
   "metadata": {},
   "outputs": [
    {
     "name": "stdout",
     "output_type": "stream",
     "text": [
      "[1, 3, 5, 7, 9]\n"
     ]
    }
   ],
   "source": [
    "## Filter odd numbers from the given list.[1,2,3,4,5,6,7,8,9,10]\n",
    "list1 = [1,2,3,4,5,6,7,8,9,10]\n",
    "a= list(filter(lambda x: x%2 != 0, list1))\n",
    "print(a)"
   ]
  },
  {
   "cell_type": "code",
   "execution_count": 56,
   "id": "0e7627d2-1fe8-4880-9918-4e78002be97f",
   "metadata": {},
   "outputs": [
    {
     "name": "stdout",
     "output_type": "stream",
     "text": [
      "[6, 5, 4, 3, 2, 1, 0]\n",
      "[-1, -2, -3, -4, -5]\n"
     ]
    }
   ],
   "source": [
    "## Sort a list of integers into positive and negative integers lists. [1,2,3,4,5,6,-1,-2,-3,-4,-5,0]\n",
    "list1 =  [1,2,3,4,5,6,-1,-2,-3,-4,-5,0]\n",
    "list2 = []\n",
    "list3 =[]\n",
    "for i in list1:\n",
    "    if i>= 0:\n",
    "        list2.append(i)\n",
    "    else:\n",
    "        list3.append(i)\n",
    "positive_sort = sorted(list2, reverse = Fa)\n",
    "negative_sort = sorted(list3, reverse = True)\n",
    "print(positive_sort)\n",
    "print(negative_sort)"
   ]
  },
  {
   "cell_type": "code",
   "execution_count": null,
   "id": "ccdc2e7e-8dc8-4739-8eae-ab2876f7ce8b",
   "metadata": {},
   "outputs": [],
   "source": []
  },
  {
   "cell_type": "code",
   "execution_count": null,
   "id": "46e97c41-26fc-4607-b7f7-77cae9b867e8",
   "metadata": {},
   "outputs": [],
   "source": []
  },
  {
   "cell_type": "code",
   "execution_count": null,
   "id": "bb5d4f6f-126a-4dbb-b70a-675b21f5588d",
   "metadata": {},
   "outputs": [],
   "source": []
  },
  {
   "cell_type": "code",
   "execution_count": null,
   "id": "b1612634-f09e-4b41-b4c9-25f9c6055604",
   "metadata": {},
   "outputs": [],
   "source": []
  }
 ],
 "metadata": {
  "kernelspec": {
   "display_name": "Python 3 (ipykernel)",
   "language": "python",
   "name": "python3"
  },
  "language_info": {
   "codemirror_mode": {
    "name": "ipython",
    "version": 3
   },
   "file_extension": ".py",
   "mimetype": "text/x-python",
   "name": "python",
   "nbconvert_exporter": "python",
   "pygments_lexer": "ipython3",
   "version": "3.10.8"
  }
 },
 "nbformat": 4,
 "nbformat_minor": 5
}
