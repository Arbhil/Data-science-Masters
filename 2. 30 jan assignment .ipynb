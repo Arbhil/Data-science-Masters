{
 "cells": [
  {
   "cell_type": "markdown",
   "id": "ff7eab13-c7bc-4474-98bc-954b23114661",
   "metadata": {},
   "source": [
    "## assignment 2\n"
   ]
  },
  {
   "cell_type": "markdown",
   "id": "ba1c9204-1860-4f74-a146-6a97dfadd831",
   "metadata": {},
   "source": [
    "# 1."
   ]
  },
  {
   "cell_type": "code",
   "execution_count": 4,
   "id": "4ea54638-cffd-4bcc-a116-4f8803b23638",
   "metadata": {},
   "outputs": [
    {
     "name": "stdin",
     "output_type": "stream",
     "text": [
      "How much did you get in mathematics out of 100? 90\n"
     ]
    },
    {
     "name": "stdout",
     "output_type": "stream",
     "text": [
      "Your grade is 'B'\n"
     ]
    }
   ],
   "source": [
    "marks = int(input(\"How much did you get in mathematics out of 100?\"))\n",
    "\n",
    "if marks>90:\n",
    "    print(\"Your grade is 'A'\")\n",
    "elif 90>=marks>80:\n",
    "    print(\"Your grade is 'B'\")\n",
    "elif 80>=marks>=60:\n",
    "    print(\"Your grade is 'C'\")\n",
    "else: \n",
    "    print(\"Your grade is 'D'\")"
   ]
  },
  {
   "cell_type": "markdown",
   "id": "60db5333-c7cb-40bc-96c4-19f59462d47c",
   "metadata": {},
   "source": [
    "# 2."
   ]
  },
  {
   "cell_type": "code",
   "execution_count": 1,
   "id": "e9b4c01a-5750-476d-b8f8-1fd84795b09f",
   "metadata": {},
   "outputs": [
    {
     "name": "stdin",
     "output_type": "stream",
     "text": [
      "What is the cost price of your bike 58898\n"
     ]
    },
    {
     "name": "stdout",
     "output_type": "stream",
     "text": [
      "You haw to pay the road tax Rs.5889.8\n"
     ]
    }
   ],
   "source": [
    "price= int(input(\"What is the cost price of your bike\"))\n",
    "\n",
    "if price>100000:\n",
    "    print(f\"You haw to pay the road tax Rs.{price*0.15}\")\n",
    "elif 100000>=price>50000:\n",
    "    print(f\"You haw to pay the road tax Rs.{price*0.1}\")\n",
    "else:\n",
    "    print(f\"You haw to pay the road tax Rs.{price*0.05}\")"
   ]
  },
  {
   "cell_type": "code",
   "execution_count": null,
   "id": "63952ca4-12b9-44ac-98a2-087f723b5294",
   "metadata": {},
   "outputs": [],
   "source": []
  },
  {
   "cell_type": "code",
   "execution_count": 4,
   "id": "00105023-9111-4d0f-ac4d-8884113b8391",
   "metadata": {},
   "outputs": [
    {
     "name": "stdin",
     "output_type": "stream",
     "text": [
      "Name of the city that you want to see the monuments- Delhi, Agra, Jaipur India\n"
     ]
    },
    {
     "name": "stdout",
     "output_type": "stream",
     "text": [
      "You have to choose between above 3 cities\n"
     ]
    }
   ],
   "source": [
    "monu= input(\"Name of the city that you want to see the monuments- Delhi, Agra, Jaipur\").lower()\n",
    "if monu == \"delhi\":\n",
    "    print(\"Red Fort\")\n",
    "elif monu == \"agra\":\n",
    "    print(\"Taj Mahal\")\n",
    "elif monu == \"jaipur\":\n",
    "    print(\"Jal Mahal\")\n",
    "else:\n",
    "    print(\"You have to choose between above 3 cities\")"
   ]
  },
  {
   "cell_type": "code",
   "execution_count": null,
   "id": "1bfc318d-a53e-4043-ba42-f467ebc5a579",
   "metadata": {},
   "outputs": [],
   "source": [
    "##"
   ]
  },
  {
   "cell_type": "code",
   "execution_count": 6,
   "id": "3e79c741-5321-44ec-b9cd-13b82cf9e84b",
   "metadata": {},
   "outputs": [
    {
     "name": "stdin",
     "output_type": "stream",
     "text": [
      "put a number that you want to check that ' how many times a number can be devisible by 3 before it reach less than or equal to 10' 99\n"
     ]
    },
    {
     "name": "stdout",
     "output_type": "stream",
     "text": [
      "2\n"
     ]
    }
   ],
   "source": [
    "number = int(input(\"put a number that you want to check that ' how many times a number can be devisible by 3 before it reach less than or equal to 10'\"))\n",
    "times= 0\n",
    "while (number/3)>10:\n",
    "    times += 1\n",
    "    number = number/3\n",
    "print(times)\n",
    "    "
   ]
  },
  {
   "cell_type": "markdown",
   "id": "9bbc514c-9815-496c-8663-ba3eaeadcbce",
   "metadata": {},
   "source": [
    "## 5"
   ]
  },
  {
   "cell_type": "markdown",
   "id": "da0d6c93-0f46-4cc2-819e-2fe4c3f74d4d",
   "metadata": {},
   "source": [
    "## Why and when to use while loop\n",
    "#### A \"While\" Loop is used to repeat a specific block of code an unknown number of times, until a condition is met.\n",
    "#### for example: How many times a number can be divisible by 2 before it reach 1.\n",
    "* if we want to write the code of the above problem normally we have to put a huge effort, in thesekind of situation while loop is needed."
   ]
  },
  {
   "cell_type": "code",
   "execution_count": 9,
   "id": "c822dc59-826c-4614-bddf-b3314c16c901",
   "metadata": {},
   "outputs": [
    {
     "name": "stdin",
     "output_type": "stream",
     "text": [
      "put a number that you want to check that ' how many times a number can be devisible by 2 before it reachs 1' 88\n"
     ]
    },
    {
     "name": "stdout",
     "output_type": "stream",
     "text": [
      "6\n"
     ]
    }
   ],
   "source": [
    "number = int(input(\"put a number that you want to check that ' how many times a number can be devisible by 2 before it reachs 1'\"))\n",
    "times= 0\n",
    "while (number/2)>=1:\n",
    "    times += 1\n",
    "    number = number/2\n",
    "print(times)\n",
    "    "
   ]
  },
  {
   "cell_type": "markdown",
   "id": "b6e72ff4-ac4c-4622-beb7-e3c00c4ce0e9",
   "metadata": {},
   "source": [
    "## 7 and 8"
   ]
  },
  {
   "cell_type": "code",
   "execution_count": 11,
   "id": "b56fe7d1-02c6-4c99-b75a-f794a2c22e52",
   "metadata": {},
   "outputs": [
    {
     "name": "stdout",
     "output_type": "stream",
     "text": [
      "10\n",
      "9\n",
      "8\n",
      "7\n",
      "6\n",
      "5\n",
      "4\n",
      "3\n",
      "2\n",
      "1\n"
     ]
    }
   ],
   "source": [
    "a = 10\n",
    "while a>0:\n",
    "    print(a)\n",
    "    a-=1"
   ]
  },
  {
   "cell_type": "code",
   "execution_count": null,
   "id": "c0d81e77-2771-499a-85ff-e97329222966",
   "metadata": {},
   "outputs": [],
   "source": []
  }
 ],
 "metadata": {
  "kernelspec": {
   "display_name": "Python 3 (ipykernel)",
   "language": "python",
   "name": "python3"
  },
  "language_info": {
   "codemirror_mode": {
    "name": "ipython",
    "version": 3
   },
   "file_extension": ".py",
   "mimetype": "text/x-python",
   "name": "python",
   "nbconvert_exporter": "python",
   "pygments_lexer": "ipython3",
   "version": "3.10.8"
  }
 },
 "nbformat": 4,
 "nbformat_minor": 5
}
