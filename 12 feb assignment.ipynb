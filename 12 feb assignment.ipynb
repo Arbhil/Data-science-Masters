{
 "cells": [
  {
   "cell_type": "code",
   "execution_count": null,
   "id": "6fa40fa6-8cf5-4235-9b2f-21aa5e5b181d",
   "metadata": {},
   "outputs": [],
   "source": []
  },
  {
   "cell_type": "markdown",
   "id": "42dff84d-31f4-47ec-8a8c-54739b10089f",
   "metadata": {},
   "source": [
    "Q1. What is an exception in python? Write the difference between  exceptions and syntex error\n",
    "An Exception is an error that happens during the execution of a program. Whenever there is an error, Python generates an exception that could be handled.\n",
    "difference- \n",
    "* There are two types of error (a) Syntex error and (b) logical error(alsoknown as exceptions)\n",
    "* Errors are the problems in a program due to which the program will stop the execution. On the other hand, exceptions are raised when some internal events occur which changes the normal flow of the program. \n"
   ]
  },
  {
   "cell_type": "code",
   "execution_count": 1,
   "id": "21aabcfb-9287-483b-aab4-cb08e209638c",
   "metadata": {},
   "outputs": [
    {
     "ename": "SyntaxError",
     "evalue": "expected ':' (919525603.py, line 2)",
     "output_type": "error",
     "traceback": [
      "\u001b[0;36m  Cell \u001b[0;32mIn[1], line 2\u001b[0;36m\u001b[0m\n\u001b[0;31m    if a>0\u001b[0m\n\u001b[0m          ^\u001b[0m\n\u001b[0;31mSyntaxError\u001b[0m\u001b[0;31m:\u001b[0m expected ':'\n"
     ]
    }
   ],
   "source": [
    "# syntaxError\n",
    "if a>0\n",
    "    print(\"a is positive\")"
   ]
  },
  {
   "cell_type": "code",
   "execution_count": 2,
   "id": "5c918796-63b0-41b1-9c95-a0e9988b3e2c",
   "metadata": {},
   "outputs": [
    {
     "ename": "ZeroDivisionError",
     "evalue": "division by zero",
     "output_type": "error",
     "traceback": [
      "\u001b[0;31m---------------------------------------------------------------------------\u001b[0m",
      "\u001b[0;31mZeroDivisionError\u001b[0m                         Traceback (most recent call last)",
      "Cell \u001b[0;32mIn[2], line 4\u001b[0m\n\u001b[1;32m      2\u001b[0m b \u001b[38;5;241m=\u001b[39m \u001b[38;5;241m0\u001b[39m\n\u001b[1;32m      3\u001b[0m c\u001b[38;5;241m=\u001b[39m \u001b[38;5;241m100\u001b[39m\n\u001b[0;32m----> 4\u001b[0m \u001b[38;5;28mprint\u001b[39m(\u001b[43mc\u001b[49m\u001b[38;5;241;43m/\u001b[39;49m\u001b[43mb\u001b[49m)\n",
      "\u001b[0;31mZeroDivisionError\u001b[0m: division by zero"
     ]
    }
   ],
   "source": [
    "# Exceptions\n",
    "b = 0\n",
    "c= 100\n",
    "print(c/b)"
   ]
  },
  {
   "cell_type": "markdown",
   "id": "f1be86d6-0e78-4ef3-84b0-afd35ed7e5b1",
   "metadata": {},
   "source": [
    "Q2. What happens when an exception is not handled? Explain with an example.\n",
    "If we do not handle exception, when raises from a line, the rest code(below that line)  will not execute"
   ]
  },
  {
   "cell_type": "code",
   "execution_count": 3,
   "id": "33ce0227-41b4-4933-a0fb-5dfee72c7338",
   "metadata": {},
   "outputs": [
    {
     "ename": "FileNotFoundError",
     "evalue": "[Errno 2] No such file or directory: 'test9.txt'",
     "output_type": "error",
     "traceback": [
      "\u001b[0;31m---------------------------------------------------------------------------\u001b[0m",
      "\u001b[0;31mFileNotFoundError\u001b[0m                         Traceback (most recent call last)",
      "Cell \u001b[0;32mIn[3], line 2\u001b[0m\n\u001b[1;32m      1\u001b[0m \u001b[38;5;66;03m# Example\u001b[39;00m\n\u001b[0;32m----> 2\u001b[0m f\u001b[38;5;241m=\u001b[39m \u001b[38;5;28;43mopen\u001b[39;49m\u001b[43m(\u001b[49m\u001b[38;5;124;43m\"\u001b[39;49m\u001b[38;5;124;43mtest9.txt\u001b[39;49m\u001b[38;5;124;43m\"\u001b[39;49m\u001b[43m,\u001b[49m\u001b[43m \u001b[49m\u001b[38;5;124;43m'\u001b[39;49m\u001b[38;5;124;43mr\u001b[39;49m\u001b[38;5;124;43m'\u001b[39;49m\u001b[43m)\u001b[49m\n\u001b[1;32m      3\u001b[0m \u001b[38;5;28mprint\u001b[39m(\u001b[38;5;124m\"\u001b[39m\u001b[38;5;124mThis will not execute\u001b[39m\u001b[38;5;124m\"\u001b[39m)\n",
      "File \u001b[0;32m/opt/conda/lib/python3.10/site-packages/IPython/core/interactiveshell.py:282\u001b[0m, in \u001b[0;36m_modified_open\u001b[0;34m(file, *args, **kwargs)\u001b[0m\n\u001b[1;32m    275\u001b[0m \u001b[38;5;28;01mif\u001b[39;00m file \u001b[38;5;129;01min\u001b[39;00m {\u001b[38;5;241m0\u001b[39m, \u001b[38;5;241m1\u001b[39m, \u001b[38;5;241m2\u001b[39m}:\n\u001b[1;32m    276\u001b[0m     \u001b[38;5;28;01mraise\u001b[39;00m \u001b[38;5;167;01mValueError\u001b[39;00m(\n\u001b[1;32m    277\u001b[0m         \u001b[38;5;124mf\u001b[39m\u001b[38;5;124m\"\u001b[39m\u001b[38;5;124mIPython won\u001b[39m\u001b[38;5;124m'\u001b[39m\u001b[38;5;124mt let you open fd=\u001b[39m\u001b[38;5;132;01m{\u001b[39;00mfile\u001b[38;5;132;01m}\u001b[39;00m\u001b[38;5;124m by default \u001b[39m\u001b[38;5;124m\"\u001b[39m\n\u001b[1;32m    278\u001b[0m         \u001b[38;5;124m\"\u001b[39m\u001b[38;5;124mas it is likely to crash IPython. If you know what you are doing, \u001b[39m\u001b[38;5;124m\"\u001b[39m\n\u001b[1;32m    279\u001b[0m         \u001b[38;5;124m\"\u001b[39m\u001b[38;5;124myou can use builtins\u001b[39m\u001b[38;5;124m'\u001b[39m\u001b[38;5;124m open.\u001b[39m\u001b[38;5;124m\"\u001b[39m\n\u001b[1;32m    280\u001b[0m     )\n\u001b[0;32m--> 282\u001b[0m \u001b[38;5;28;01mreturn\u001b[39;00m \u001b[43mio_open\u001b[49m\u001b[43m(\u001b[49m\u001b[43mfile\u001b[49m\u001b[43m,\u001b[49m\u001b[43m \u001b[49m\u001b[38;5;241;43m*\u001b[39;49m\u001b[43margs\u001b[49m\u001b[43m,\u001b[49m\u001b[43m \u001b[49m\u001b[38;5;241;43m*\u001b[39;49m\u001b[38;5;241;43m*\u001b[39;49m\u001b[43mkwargs\u001b[49m\u001b[43m)\u001b[49m\n",
      "\u001b[0;31mFileNotFoundError\u001b[0m: [Errno 2] No such file or directory: 'test9.txt'"
     ]
    }
   ],
   "source": [
    "# Example\n",
    "f= open(\"test9.txt\", 'r')\n",
    "print(\"This will not execute\") ## as we don't handle the exception this print sataement will also not execute"
   ]
  },
  {
   "cell_type": "markdown",
   "id": "d94ea33e-798a-4aa5-a5b7-5c58cd62d395",
   "metadata": {},
   "source": [
    "Q3. Which python statements are used to catch and handle exceptions? Explain with an example.\n",
    "The try, Except block is used to catch and handle exceptions."
   ]
  },
  {
   "cell_type": "code",
   "execution_count": 6,
   "id": "ce3aa0f5-4da4-484f-bd22-436b8f8bf632",
   "metadata": {},
   "outputs": [
    {
     "name": "stdout",
     "output_type": "stream",
     "text": [
      "There is some issu with my code  [Errno 2] No such file or directory: 'test9.txt'\n"
     ]
    }
   ],
   "source": [
    "# Example\n",
    "try:\n",
    "    f= open(\"test9.txt\", 'r')\n",
    "except Exception as r:\n",
    "    print(\"There is some issu with my code \", format(r))"
   ]
  },
  {
   "cell_type": "markdown",
   "id": "8b3f2909-c9ab-404d-9388-47a1671aa76d",
   "metadata": {},
   "source": [
    "## Q4. Explain with an example:\n",
    "* a. try and else\n",
    "* b. finally\n",
    "* c. raise"
   ]
  },
  {
   "cell_type": "code",
   "execution_count": null,
   "id": "d3b60dd6-7eed-4587-9fdb-b247145eeb9d",
   "metadata": {},
   "outputs": [],
   "source": []
  },
  {
   "cell_type": "code",
   "execution_count": null,
   "id": "c0e58f7d-5b1f-40f4-8c43-c68a0fefe5b8",
   "metadata": {},
   "outputs": [],
   "source": []
  },
  {
   "cell_type": "code",
   "execution_count": 12,
   "id": "e58bba13-a169-43aa-b4f7-66929977b067",
   "metadata": {},
   "outputs": [
    {
     "name": "stdout",
     "output_type": "stream",
     "text": [
      "This is good\n",
      "I will always execute myself\n"
     ]
    }
   ],
   "source": [
    "# Example\n",
    "try:\n",
    "    f5= open(\"test10.txt\", 'w')\n",
    "    f5.write(\"Which python statements are used to catch and handle exceptions?\")\n",
    "except Exception as r:\n",
    "    print(\"There is some issu with my code \", format(r))\n",
    "else:                   ## This block code execute itself wehen there is no eeception happens while executing the try block code\n",
    "    f5.close()\n",
    "    print(\"This is good\")\n",
    "finally:                ## this block code always execute itself\n",
    "    print(\"I will always execute myself\")"
   ]
  },
  {
   "cell_type": "code",
   "execution_count": null,
   "id": "f12e7e31-b7c6-49b9-ab20-68c25afc5afd",
   "metadata": {},
   "outputs": [],
   "source": [
    "#Example of raise\n",
    "class validage(Exception):\n",
    "    def __init__(self, messege):\n",
    "        self.messege = messege\n",
    "def valid_age(age):\n",
    "    if age<0:\n",
    "        raise validage(\"age cannot be negative\")\n",
    "    elif age>100:\n",
    "        raise validage(\"You are too old for this\")\n",
    "    else:\n",
    "        raise validage(\"valid age\")\n",
    "try:\n",
    "    age = int(input(\"Enter your age please\"))\n",
    "    valid_age(age)\n",
    "except validage as e:\n",
    "    print(e)\n"
   ]
  },
  {
   "cell_type": "markdown",
   "id": "823c69a2-2ae2-48da-a967-139092f8767f",
   "metadata": {},
   "source": [
    "## Q5. What are the custom Exceptions in python? Why do we need custom exception? Explain with an example.\n",
    "#### user defined exceptions are called custom exception. we create custom exception classes according to our requirements.\n",
    "#### the things that is valid for the system but not for our business. that's why we need custom exception.\n"
   ]
  },
  {
   "cell_type": "code",
   "execution_count": 15,
   "id": "d4c4d32c-ab6f-450d-b59a-815f9f5913e4",
   "metadata": {},
   "outputs": [
    {
     "name": "stdin",
     "output_type": "stream",
     "text": [
      "Enter your age please -28\n"
     ]
    },
    {
     "name": "stdout",
     "output_type": "stream",
     "text": [
      "age cannot be negative\n"
     ]
    }
   ],
   "source": [
    "#Example\n",
    "class validage(Exception):\n",
    "    def __init__(self, messege):\n",
    "        self.messege = messege\n",
    "def valid_age(age):\n",
    "    if age<0:\n",
    "        raise validage(\"age cannot be negative\")\n",
    "    elif age>100:\n",
    "        raise validage(\"You are too old for this\")\n",
    "    else:\n",
    "        raise validage(\"valid age\")\n",
    "try:\n",
    "    age = int(input(\"Enter your age please\"))\n",
    "    valid_age(age)\n",
    "except validage as e:\n",
    "    print(e)\n"
   ]
  },
  {
   "cell_type": "markdown",
   "id": "b9ff5245-eb4b-4a6b-aea6-639907b01ee5",
   "metadata": {},
   "source": [
    "Q6. Create a custom exception class. Use this class to handle an exception"
   ]
  },
  {
   "cell_type": "code",
   "execution_count": null,
   "id": "5212bbdb-6bd9-4c67-9e41-f1c7309b96d1",
   "metadata": {},
   "outputs": [],
   "source": [
    "#Example\n",
    "class validage(Exception):\n",
    "    def __init__(self, messege):\n",
    "        self.messege = messege\n",
    "def valid_age(age):\n",
    "    if age<0:\n",
    "        raise validage(\"age cannot be negative\")\n",
    "    elif age>100:\n",
    "        raise validage(\"You are too old for this\")\n",
    "    else:\n",
    "        raise validage(\"valid age\")\n",
    "try:\n",
    "    age = int(input(\"Enter your age please\"))\n",
    "    valid_age(age)\n",
    "except validage as e:\n",
    "    print(e)\n"
   ]
  },
  {
   "cell_type": "code",
   "execution_count": null,
   "id": "4edaf64b-f356-46a0-bc1d-4d41d19532ce",
   "metadata": {},
   "outputs": [],
   "source": []
  },
  {
   "cell_type": "code",
   "execution_count": null,
   "id": "17cbe40a-ba22-4e2d-a4bc-dc9185eba7c2",
   "metadata": {},
   "outputs": [],
   "source": []
  }
 ],
 "metadata": {
  "kernelspec": {
   "display_name": "Python 3 (ipykernel)",
   "language": "python",
   "name": "python3"
  },
  "language_info": {
   "codemirror_mode": {
    "name": "ipython",
    "version": 3
   },
   "file_extension": ".py",
   "mimetype": "text/x-python",
   "name": "python",
   "nbconvert_exporter": "python",
   "pygments_lexer": "ipython3",
   "version": "3.10.8"
  }
 },
 "nbformat": 4,
 "nbformat_minor": 5
}
