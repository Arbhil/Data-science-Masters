{
 "cells": [
  {
   "cell_type": "markdown",
   "id": "e9774444-fa37-4d23-9e97-38cebd32171f",
   "metadata": {},
   "source": [
    "## Q1. What is a database? Differentiate between SQL and NoSQL databases.\n",
    "* A database is a systematic collection of data. They support electronic storage and manipulation of data. Databases make data management easy.\n",
    "## Difference between SQL and NoSQL\n",
    "1. Type – \n",
    "* SQL databases are primarily called as Relational Databases (RDBMS); whereas NoSQL database are primarily called as non-relational or distributed database. \n",
    "2. Language – \n",
    "* SQL databases defines and manipulates data based structured query language (SQL). A NoSQL database has dynamic schema for unstructured data. Data is stored in many ways which means it can be document-oriented, column-oriented, graph-based or organized as a KeyValue store.\n",
    "3. Structure – \n",
    "* SQL databases are table-based on the other hand NoSQL databases are either key-value pairs, document-based, graph databases or wide-column stores.\n",
    "4. Property followed – \n",
    "* SQL databases follow ACID properties (Atomicity, Consistency, Isolation and Durability) whereas the NoSQL database follows the Brewers CAP theorem (Consistency, Availability and Partition tolerance). \n",
    "4. Example -\n",
    "* example of sql are  MySQL, PostgreSQL, Oracle, MS-SQL Server, etc and example of nosql are MongoDB, GraphQL, HBase, Neo4j, Cassandra, etc"
   ]
  },
  {
   "cell_type": "markdown",
   "id": "203c74a3-cb6a-458f-9737-fcd5057d6454",
   "metadata": {},
   "source": [
    "## Q2. What is DDL? Explain why CREATE, DROP, ALTER, and TRUNCATE are used with an example.\n",
    "A data definition language (DDL) is a computer language used to create and modify the structure of database objects in a database. These database objects include views, schemas, tables, indexes, etc.\n",
    "1. Create\n",
    "* This command builds a new table and has a predefined syntax. The CREATE statement syntax is:\n",
    "\n",
    "For example:\n",
    "\n",
    "CREATE TABLE Employee (Employee Id INTEGER PRIMARY KEY, First name CHAR (50) NULL, Last name CHAR (75) NOT NULL);\n",
    "\n",
    "* The mandatory semi-colon at the end of the statement is used to process every command before it. In this example, the string CHAR is used to specify the data type. Other data types can be DATE, NUMBER, or INTEGER.\n",
    "\n",
    "2. Alter\n",
    "* An alter command modifies an existing database table. This command can add up additional column, drop existing columns and even change the data type of columns involved in a database table.\n",
    "\n",
    "\n",
    "For example:\n",
    "\n",
    "ALTER TABLE Employee ADD PRIMARY KEY (employee_pk);\n",
    "\n",
    "* In this example, we added a unique primary key to the table to add a constraint and enforce a unique value. The constraint “employee_pk” is a primary key and is on the Employee table.\n",
    "\n",
    "3. Drop\n",
    "* A drop command is used to delete objects such as a table, index or view. A DROP statement cannot be rolled back, so once an object is destroyed, there’s no way to recover it.\n",
    "\n",
    "\n",
    "For example:\n",
    "\n",
    "DROP TABLE Employee;\n",
    "\n",
    "* In this example, we’re deleting the Employee table.\n",
    "\n",
    "4. Truncate\n",
    "* Similar to DROP, the TRUNCATE statement is used to quickly remove all records from a table. However, unlike DROP that completely destroys a table, TRUNCATE preserves its full structure to be reused later.\n",
    "\n",
    "For example:\n",
    "\n",
    "TRUNCATE TABLE Employee;\n",
    "\n",
    "* In this example, we’re marking all the extents of the Employee table for deallocation, so they’re considered empty for reuse."
   ]
  },
  {
   "cell_type": "markdown",
   "id": "f14eefc4-6e80-47bf-a246-635e916b9afb",
   "metadata": {},
   "source": [
    "## Q3. What is DML? Explain INSERT, UPDATE, and DELETE with an example.\n",
    "DML is an abbreviation of Data Manipulation Language.\n",
    "\n",
    "The DML commands in Structured Query Language change the data present in the SQL database. We can easily access, store, modify, update and delete the existing records from the database using DML commands.\n",
    "1. INSERT - \n",
    "* INSERT is  most important data manipulation command in Structured Query Language, which allows users to insert data in database tables.\n",
    "example of  inserting a new row data in a table - \n",
    "INSERT INTO TABLE_NAME ( column_Name1 , column_Name2 , column_Name3 , .... column_NameN )  VALUES (value_1, value_2, value_3, .... value_N ) ;\n",
    "2. UPDATE - \n",
    "* UPDATE is another most important data manipulation command in Structured Query Language, which allows users to update or modify the existing data in database tables.\n",
    "* Syntax- UPDATE Table_name SET [column_name1= value_1, ….., column_nameN = value_N] WHERE CONDITION;  \n",
    "3. DELETE -\n",
    "* DELETE is a DML command which allows SQL users to remove single or multiple existing records from the database tables. This command of Data Manipulation Language does not delete the stored data permanently from the database. We use the WHERE clause with the DELETE command to select specific rows from the table.\n",
    "\n",
    "* Syntax- DELETE FROM Table_Name WHERE condition;  "
   ]
  },
  {
   "cell_type": "markdown",
   "id": "03fb25c5-ad4e-4663-9426-e6cc3c03aa9d",
   "metadata": {},
   "source": [
    "## Q4. What is DQL? Explain SELECT with an example.\n",
    "Data query language (DQL) is part of the base grouping of SQL sub-languages.\n",
    "* SELECT:\n",
    "This command helps you to select the attribute based on the condition described by the WHERE clause.\n",
    "\n",
    "* Syntax:\n",
    "\n",
    "SELECT expressions    \n",
    "FROM TABLES    \n",
    "WHERE conditions;  "
   ]
  },
  {
   "cell_type": "markdown",
   "id": "60d373bd-8ced-4275-b56d-54ae3f135f4a",
   "metadata": {},
   "source": [
    "## Q5. Explain Primary Key and Foreign Key.\n",
    "* Primary Key: \n",
    "A primary key is used to ensure that data in the specific column is unique. A column cannot have NULL values. It is either an existing table column or a column that is specifically generated by the database according to a defined sequence. \n",
    "* Foreign Key: \n",
    "A foreign key is a column or group of columns in a relational database table that provides a link between data in two tables. It is a column (or columns) that references a column (most often the primary key) of another table. "
   ]
  },
  {
   "cell_type": "markdown",
   "id": "59e26f65-53ff-4d03-b10b-747847182f0e",
   "metadata": {},
   "source": [
    "## Q6. Write a python code to connect MySQL to python. Explain the cursor() and execute() method"
   ]
  },
  {
   "cell_type": "code",
   "execution_count": null,
   "id": "cfdb0318-5b21-4011-ab8c-f38e62b7320c",
   "metadata": {},
   "outputs": [],
   "source": [
    "import mysql.connector\n",
    "mydb = mysql.connector.connect(\n",
    "    host= \"localhost\",\n",
    "    user= \"abc\",\n",
    "    password = \"password\"\n",
    "\n",
    ")\n",
    "print(mydb)\n",
    "mycursor = mydb.cursor() ## A cursor is an object which helps to execute the query and fetch the records from the database. \n",
    "                         ## The cursor plays a very important role in executing the query.\n",
    "mycursor.execute(\"SHOW DATABASES\") ## The execute () method helps us to execute the query and return records according to the query.\n",
    "for i in mycursor:\n",
    "    print(i)"
   ]
  },
  {
   "cell_type": "markdown",
   "id": "4d3bf363-9b56-4638-884f-71338ee1fb4c",
   "metadata": {},
   "source": [
    "## Q7. Give the order of execution of SQL clauses in an SQL query.\n",
    "Order | Clause  | Function\n",
    "|-|-|-|\n",
    "|1\t  |FROM\t    |Tables are joined to get the base data.|\n",
    "|2\t  |WHERE\t|    he base data is filtered.|\n",
    "|3\t  |GROUP BY\t|The filtered base data is grouped.|\n",
    "|4\t  |HAVING\t|The grouped base data is filtered.|\n",
    "|5\t  |SELECT\t|The final data is returned.|\n",
    "|6\t  |ORDER BY\t|The final data is sorted.|\n",
    "|7\t  |LIMIT\t|    The returned data is limited to row count.|"
   ]
  }
 ],
 "metadata": {
  "kernelspec": {
   "display_name": "Python 3 (ipykernel)",
   "language": "python",
   "name": "python3"
  },
  "language_info": {
   "codemirror_mode": {
    "name": "ipython",
    "version": 3
   },
   "file_extension": ".py",
   "mimetype": "text/x-python",
   "name": "python",
   "nbconvert_exporter": "python",
   "pygments_lexer": "ipython3",
   "version": "3.10.8"
  }
 },
 "nbformat": 4,
 "nbformat_minor": 5
}
