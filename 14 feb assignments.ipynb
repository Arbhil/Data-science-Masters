{
 "cells": [
  {
   "cell_type": "markdown",
   "id": "c289fa35-7761-4317-baaa-c6b869d881b7",
   "metadata": {},
   "source": [
    "\n",
    "## Q1. What is multithreading in python? Why is it used? Name the module used to handle threads in python.\n",
    "#### a thread is a sequence of such instructions within a program that can be executed independently of other code. where multithreading is Multiple threads can exist within one process where:\n",
    "* Each thread contains its own register set and local variables (stored in stack).\n",
    "* All threads of a process share global variables (stored in heap) and the program code.\n",
    "#### the benefits to create a multithreaded application in Python, as follows:\n",
    "\n",
    "* It ensures effective utilization of computer system resources.\n",
    "* Multithreaded applications are more responsive.\n",
    "* It shares resources and its state with sub-threads (child) which makes it more economical.\n",
    "* It makes the multiprocessor architecture more effective due to similarity.\n",
    "* It saves time by executing multiple threads at the same time.\n",
    "* The system does not require too much memory to store multiple threads.\n",
    "#### Threading module is used to handle the threads in python\n",
    "\n"
   ]
  },
  {
   "cell_type": "markdown",
   "id": "d23e3506-b023-4880-bab6-5e38f746c883",
   "metadata": {},
   "source": [
    "\n",
    "## Q2. Why threading module used? Write the use of the following functions-\n",
    "* activeCount()\n",
    "* currentThread()\n",
    "* enumerate()\n",
    "#### The threading module is used for creating, controlling and managing threads in python\n",
    "* activeCount()=> threading.activeCount() − Returns the number of thread objects that are active.\n",
    "* currentThread() => threading.currentThread() − Returns the number of thread objects in the caller's thread control. \n",
    "* enumerate() => threading.enumerate() − Returns a list of all thread objects that are currently active."
   ]
  },
  {
   "cell_type": "markdown",
   "id": "0efd1c88-393b-4797-9e4f-6bfcc055e341",
   "metadata": {},
   "source": [
    "\n",
    "## 3. Explain the following functions:\n",
    "* run()\n",
    "* start()\n",
    "* join()\n",
    "* isAlive()\n",
    "#### Ans- \n",
    "* run() => The .run() method executes any target function belonging to a given thread object that is now active.  It normally executes in the background after the .start() method is invoked.\n",
    "* start()=> It is used to start a thread's activity. This method calls the run() method internally which then executes the target method. \n",
    "* join()=> The .join() method delays a program’s flow of execution until the target thread has been completely read.\n",
    "* isAlive()=> The isAlive() method checks whether a thread is still executing"
   ]
  },
  {
   "cell_type": "markdown",
   "id": "feb10940-00c2-4ae6-b8a2-e41f6efb66be",
   "metadata": {},
   "source": [
    "\n",
    "4.  Write a python program to create two threads. Thread one must print the list of squares and thread two must print the list of cubes.\n"
   ]
  },
  {
   "cell_type": "code",
   "execution_count": 5,
   "id": "d0d28958-b3a5-48fe-a931-8faf46824835",
   "metadata": {},
   "outputs": [
    {
     "name": "stdout",
     "output_type": "stream",
     "text": [
      "[0, 1, 4, 9]\n",
      "[0, 1, 8, 27]\n"
     ]
    }
   ],
   "source": [
    "import threading\n",
    "list1 = []\n",
    "list2 = []\n",
    "def square(x):\n",
    "    list1.append(x**2)\n",
    "def cube(y):\n",
    "    list2.append(y**3)\n",
    "thread1 = [threading.Thread(target = square, args = (i,)) for i in range(4)]\n",
    "thread2 = [threading.Thread(target = cube, args = (s,))for s in range(4)]\n",
    "\n",
    "for t in thread1:\n",
    "    t.start()\n",
    "for s in thread2:\n",
    "    s.start()\n",
    "    \n",
    "print(list1)\n",
    "print(list2)"
   ]
  },
  {
   "cell_type": "markdown",
   "id": "c7c2a468-37c2-4e67-85cf-512bce8e062e",
   "metadata": {},
   "source": [
    "## 5. State advantages and disadvantages of multithreading.\n",
    "#### Advantages:\n",
    "\n",
    "* Improved performance: Multithreading can help increase the overall performance of an application, especially on systems with multiple processors or cores. It allows multiple tasks to run concurrently, utilizing the available CPU resources more efficiently.\n",
    "\n",
    "* Responsiveness: In a single-threaded environment, if a long-running task blocks the main thread, the entire application becomes unresponsive. Multithreading can prevent this issue by running such tasks in separate threads, ensuring the application remains responsive.\n",
    "\n",
    "* Better resource utilization: Multithreading allows better utilization of system resources by keeping the CPU busy while waiting for I/O operations or other tasks to complete.\n",
    "\n",
    "* Simplified modeling: Some problems can be more naturally modeled using multiple threads. This makes the program easier to design, understand, and maintain.\n",
    "\n",
    "* Parallelism: Multithreading enables parallelism, which can lead to significant performance improvements in applications that can be divided into smaller, independent tasks.\n",
    "\n",
    "#### Disadvantages:\n",
    "\n",
    "* Complexity: Multithreading adds complexity to the program, making it more difficult to design, implement, and debug. Developers need to be aware of synchronization, deadlocks, race conditions, and other concurrency-related issues.\n",
    "\n",
    "* Synchronization overhead: To avoid data corruption and maintain consistency, developers must synchronize access to shared resources, which can result in additional overhead and reduced performance.\n",
    "\n",
    "* Context switching: Context switching between threads consumes CPU time and resources, which can lead to performance degradation if not managed efficiently.\n",
    "\n",
    "* Hard to predict behavior: Due to the concurrent nature of multithreading, the behavior of the program can be hard to predict and reproduce, especially when it comes to debugging.\n",
    "\n",
    "* Limited by hardware: The performance benefits of multithreading are limited by the number of available cores or processors in the system. In some cases, excessive use of threads can lead to performance degradation instead of improvement."
   ]
  },
  {
   "cell_type": "markdown",
   "id": "6f030aa1-56f7-40f2-a7d5-eef2eaaa263d",
   "metadata": {},
   "source": [
    "6. Explain deadlocks and race conditions.\n"
   ]
  },
  {
   "cell_type": "code",
   "execution_count": null,
   "id": "29fe7cf3-2be6-4d12-9c70-f10a3a081b27",
   "metadata": {},
   "outputs": [],
   "source": []
  },
  {
   "cell_type": "code",
   "execution_count": null,
   "id": "9e2c9375-7b38-456d-a652-2764e3f861fe",
   "metadata": {},
   "outputs": [],
   "source": []
  },
  {
   "cell_type": "code",
   "execution_count": null,
   "id": "d417c0df-59bc-4d8c-b974-5860944a17e1",
   "metadata": {},
   "outputs": [],
   "source": []
  },
  {
   "cell_type": "code",
   "execution_count": null,
   "id": "8ea51dd0-0a41-4e52-8da0-af2879379091",
   "metadata": {},
   "outputs": [],
   "source": []
  },
  {
   "cell_type": "code",
   "execution_count": null,
   "id": "1fb48901-01c1-4698-9489-d3b2897a1a28",
   "metadata": {},
   "outputs": [],
   "source": []
  },
  {
   "cell_type": "code",
   "execution_count": null,
   "id": "981f9de1-fa4a-4d86-b498-593975921a76",
   "metadata": {},
   "outputs": [],
   "source": []
  }
 ],
 "metadata": {
  "kernelspec": {
   "display_name": "Python 3 (ipykernel)",
   "language": "python",
   "name": "python3"
  },
  "language_info": {
   "codemirror_mode": {
    "name": "ipython",
    "version": 3
   },
   "file_extension": ".py",
   "mimetype": "text/x-python",
   "name": "python",
   "nbconvert_exporter": "python",
   "pygments_lexer": "ipython3",
   "version": "3.10.8"
  }
 },
 "nbformat": 4,
 "nbformat_minor": 5
}
