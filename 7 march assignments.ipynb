{
 "cells": [
  {
   "cell_type": "markdown",
   "id": "79875ebd-712c-4f05-b128-efd8e717d798",
   "metadata": {},
   "source": [
    "## Q1. What are the three measures of central tendency?\n",
    "* Mean\n",
    "* Median\n",
    "* Mode\n",
    "## Q2. What is the difference between the mean, median, and mode? How are they used to measure the central tendency of a dataset?\n",
    "Ans- \n",
    "The mean, median, and mode are statistical measures used to describe the central tendency of a dataset. They provide information about the typical or central value of a set of numbers, but they do so in different ways. Here's a brief explanation of each measure:\n",
    "\n",
    "* Mean: The mean, also known as the average, is calculated by summing up all the values in a dataset and dividing the sum by the number of values. It considers every value in the dataset and is influenced by outliers. To find the mean, you add up all the values and divide by the total count. For example, if you have the dataset {3, 5, 7, 8, 10}, the mean is (3 + 5 + 7 + 8 + 10) / 5 = 6.6.\n",
    "\n",
    "* Median: The median is the middle value in an ordered dataset. To calculate the median, you arrange the values in ascending or descending order and find the middle value. If the dataset has an odd number of values, the median is the exact middle value. If the dataset has an even number of values, the median is the average of the two middle values. The median is less affected by extreme values or outliers. For example, in the dataset {3, 5, 7, 8, 10}, the median is 7.\n",
    "\n",
    "* Mode: The mode is the value that appears most frequently in a dataset. In other words, it is the value with the highest frequency. A dataset can have multiple modes (bimodal, trimodal, etc.) or no mode (no value repeats). The mode is useful for categorical or discrete data. For example, in the dataset {3, 5, 7, 7, 8, 10}, the mode is 7.\n",
    "\n",
    "These measures of central tendency help summarize and understand a dataset. The mean is often used when the data is normally distributed or continuous, the median is useful when dealing with skewed data or outliers, and the mode is employed to describe categorical or discrete data. Depending on the characteristics of the dataset and the specific analysis, one or more of these measures may be used to gain insights into the central tendencies of the data.\n",
    "\n"
   ]
  },
  {
   "cell_type": "markdown",
   "id": "6695ebd0-e497-4225-baf1-34ad02c0dabe",
   "metadata": {},
   "source": [
    "## Q3. Measure the three measures of central tendency for the given height data:\n",
    "\n",
    " [178,177,176,177,178.2,178,175,179,180,175,178.9,176.2,177,172.5,178,176.5]"
   ]
  },
  {
   "cell_type": "code",
   "execution_count": 5,
   "id": "7a5d3395-2339-4c61-b147-131aa553a21a",
   "metadata": {},
   "outputs": [
    {
     "name": "stdout",
     "output_type": "stream",
     "text": [
      "The mean is 177.01875\n",
      "The median is 177.0\n",
      "The mode is ModeResult(mode=array([177.]), count=array([3]))\n"
     ]
    },
    {
     "name": "stderr",
     "output_type": "stream",
     "text": [
      "/tmp/ipykernel_119/2050988812.py:6: FutureWarning: Unlike other reduction functions (e.g. `skew`, `kurtosis`), the default behavior of `mode` typically preserves the axis it acts along. In SciPy 1.11.0, this behavior will change: the default value of `keepdims` will become False, the `axis` over which the statistic is taken will be eliminated, and the value None will no longer be accepted. Set `keepdims` to True or False to avoid this warning.\n",
      "  print(f\"The mode is {stats.mode(data)}\")\n"
     ]
    }
   ],
   "source": [
    "data = [178,177,176,177,178.2,178,175,179,180,175,178.9,176.2,177,172.5,178,176.5]\n",
    "import numpy as np\n",
    "print(f\"The mean is {np.mean(data)}\")\n",
    "print(f\"The median is {np.median(data)}\")\n",
    "from scipy import stats\n",
    "print(f\"The mode is {stats.mode(data)}\")"
   ]
  },
  {
   "cell_type": "markdown",
   "id": "08e2daf9-d925-4c78-90f4-922de8a51197",
   "metadata": {},
   "source": [
    "## Q4. Find the standard deviation for the given data:\n",
    "\n",
    "[178,177,176,177,178.2,178,175,179,180,175,178.9,176.2,177,172.5,178,176.5]\n"
   ]
  },
  {
   "cell_type": "code",
   "execution_count": 6,
   "id": "8e09a458-e613-4f9e-b15a-f82975603b62",
   "metadata": {},
   "outputs": [
    {
     "name": "stdout",
     "output_type": "stream",
     "text": [
      "The Standard Deviation is 1.7885814036548633\n"
     ]
    }
   ],
   "source": [
    "data2 = [178,177,176,177,178.2,178,175,179,180,175,178.9,176.2,177,172.5,178,176.5]\n",
    "import numpy as np\n",
    "print(f\"The Standard Deviation is {np.std(data2)}\")"
   ]
  },
  {
   "attachments": {
    "83b8cdc4-011a-4d38-8e0d-05dff2776002.png": {
     "image/png": "[encoded data removed]"
    },
    "f8c6db73-c303-4d47-8bd7-c69172963ee2.png": {
     "image/png": "[encoded data removed]"
    }
   },
   "cell_type": "markdown",
   "id": "08257da4-7686-4bd8-9ccc-3279b57619e2",
   "metadata": {},
   "source": [
    "## Q5. How are measures of dispersion such as range, variance, and standard deviation used to describe the spread of a dataset? Provide an example.\n",
    "\n",
    "Measures of dispersion, such as range, variance, and standard deviation, are used to describe the spread or variability of a dataset. They provide information about how the data points are distributed around the central tendency measures like the mean or median. Here's a description of each measure and an example:\n",
    "\n",
    "* Range: \n",
    "The range is the simplest measure of dispersion and represents the difference between the largest and smallest values in a dataset. It gives an idea of the total spread of the data but does not consider the distribution of values within that range. For example, in the dataset {2, 4, 6, 8, 10}, the range is 10 - 2 = 8.\n",
    "\n",
    "* Variance: \n",
    "Variance quantifies the average squared deviation of each data point from the mean. It measures the spread of the dataset by considering how far each value is from the mean. A higher variance indicates a greater dispersion of data points, while a lower variance indicates a more tightly clustered dataset. To calculate the variance, you subtract the mean from each value, square the result, and take the average of those squared differences. For example, in the dataset {2, 4, 6, 8, 10}, the variance is calculated as [(2 - 6)^2 + (4 - 6)^2 + (6 - 6)^2 + (8 - 6)^2 + (10 - 6)^2] / 5 = 8.\n",
    "\n",
    "* Standard Deviation: \n",
    "The standard deviation is the square root of the variance. It is often preferred over variance because it is in the same unit as the original data, making it easier to interpret. The standard deviation measures the average deviation of data points from the mean. A higher standard deviation indicates a larger spread of values, while a lower standard deviation indicates a more concentrated dataset. Using the previous example, the standard deviation of {2, 4, 6, 8, 10} is the square root of the variance, which is √8 ≈ 2.83.\n",
    "\n",
    "These measures of dispersion provide insights into the spread of data points and complement the measures of central tendency. The range gives a quick understanding of the total spread, while variance and standard deviation provide a more detailed view of how the values deviate from the mean. These measures help in comparing and analyzing datasets, understanding the variability, and making informed decisions based on the data.\n",
    "\n",
    "## Q6. What is a Venn diagram?\n",
    "\n",
    "A Venn diagram is a visual representation of the relationships between different sets or groups of objects or concepts. It consists of overlapping circles (or other closed curves) that represent the sets, with each circle representing a specific set. The overlapping areas or intersections between the circles show the elements or attributes that are common to the sets being represented. The purpose of a Venn diagram is to illustrate the relationships and similarities between different sets and to depict the shared and unique elements among them.\n",
    "\n",
    "![download.png](attachment:83b8cdc4-011a-4d38-8e0d-05dff2776002.png)\n",
    "\n",
    "\n",
    "## Q7. For the two given sets A = (2,3,4,5,6,7) & B = (0,2,6,8,10). Find:\n",
    "\n",
    "(i) \tA ∩ B\n",
    "\n",
    "(ii)\tA ⋃ B\n",
    "\n",
    "Ans-\n",
    "* A ∩ B = (2,6)\n",
    "* A ⋃ B = (0,2,3,4,5,6,7,8,10)\n",
    "## Q8. What do you understand about skewness in data?\n",
    "Skewness is a statistical measure that describes the asymmetry or departure from symmetry in a distribution of data. It provides information about the shape and distribution of the data points.\n",
    "A dataset can exhibit three types of skewness:\n",
    "\n",
    "1. Positive Skewness (Right Skewness): In a positively skewed distribution, the tail of the distribution extends towards the right side, indicating that the majority of the data points are concentrated on the left side of the distribution. The mean is typically greater than the median in a positively skewed dataset.\n",
    "\n",
    "2. Negative Skewness (Left Skewness): In a negatively skewed distribution, the tail of the distribution extends towards the left side, indicating that the majority of the data points are concentrated on the right side of the distribution. The mean is typically less than the median in a negatively skewed dataset.\n",
    "\n",
    "![download.png](attachment:f8c6db73-c303-4d47-8bd7-c69172963ee2.png)\n",
    "\n",
    "3. Symmetrical Distribution (No Skewness): A symmetrical distribution has equal amounts of data points on both sides of the distribution, resulting in a balanced or bell-shaped curve. The mean and median are generally close in a symmetrical dataset.\n",
    "\n",
    "## Q9. If a data is right skewed then what will be the position of median with respect to mean?\n",
    "\n",
    "Ans- median will be drawn before the mean. As the data is right skewed then mean > median\n",
    "\n",
    "## Q10. Explain the difference between covariance and correlation. How are these measures used in statistical analysis?\n",
    "\n",
    "\n",
    "|              | Covariance                    | Correlation                         |\n",
    "|--------------|-------------------------------|-------------------------------------|\n",
    "| Definition   | Measures the relationship between two variables, indicating the direction of the relationship (positive or negative) and the scale of their changes together. | Measures the strength and direction of the linear relationship between two variables. It standardizes the values, making it easier to compare relationships across different datasets. |\n",
    "| Scale        | Unbounded                     | Bounded between -1 and +1           |\n",
    "| Interpretation | Covariance value alone doesn't provide a clear indication of the strength or direction of the relationship. It requires comparison with the variable's own scales. | Correlation value indicates the strength and direction of the linear relationship. A value close to +1 or -1 represents a strong relationship, while a value close to 0 represents a weak or no linear relationship. |\n",
    "| Units        | Depends on the units of the variables being measured. | Unitless                            |\n",
    "| Sensitivity to Scale | Sensitive to the scale of the variables. Changing the scale of variables can impact the covariance. | Not sensitive to the scale of the variables. |\n",
    "| Mathematical Formula | Cov(X, Y) = Σ((X - X̄)(Y - Ȳ)) / n | Corr(X, Y) = Cov(X, Y) / (σ(X) * σ(Y)) |\n",
    "| Statistical Analysis | Used in various statistical analyses such as portfolio management, regression analysis, and risk assessment. | Widely used in data analysis, regression analysis, hypothesis testing, and examining relationships between variables. It helps identify associations and dependencies between variables and provides insights for decision-making. |\n",
    "\n",
    "\n",
    "## Q11. What is the formula for calculating the sample mean? Provide an example calculation for a dataset.\n",
    "x̄ = Σx / n\n",
    "where x̄ is the sample mean, Σx is the sum of all the values in the sample, and n is the sample size.\n",
    "\n",
    "Here's an example calculation:\n",
    "\n",
    "Suppose we have the following sample of 7 exam scores: {80, 85, 90, 75, 70, 85, 95}\n",
    "\n",
    "To calculate the sample mean:\n",
    "x̄ = Σx / n\n",
    "x̄ = (80 + 85 + 90 + 75 + 70 + 85 + 95) / 7\n",
    "x̄ = 580 / 7\n",
    "x̄ ≈ 82.857\n",
    "\n",
    "## Q12. For a normal distribution data what is the relationship between its measure of central tendency?\n",
    "\n",
    "The relationship between mean, median, and mode depends on the shape and characteristics of the data distribution:\n",
    "\n",
    "* In a symmetrical distribution: \n",
    "If the data is symmetrically distributed, such as in a normal distribution, the mean, median, and mode are all equal. The values are centered around the same point, resulting in a balanced distribution.\n",
    "\n",
    "* In a positively skewed distribution: \n",
    "In a positively skewed distribution, the tail of the distribution extends towards the right side, indicating a concentration of lower values. In this case, the mode will be the smallest value, the median will be greater than the mode, and the mean will be the greatest among the three measures. The mean is affected by the presence of extreme values and is pulled in the direction of the long tail.\n",
    "\n",
    "* In a negatively skewed distribution: \n",
    "In a negatively skewed distribution, the tail of the distribution extends towards the left side, indicating a concentration of higher values. Here, the mode will be the largest value, the median will be smaller than the mode, and the mean will be the smallest among the three measures. Again, the mean is influenced by extreme values and is pulled in the direction of the long tail.\n",
    "\n",
    "## Q13. How is covariance different from correlation?\n",
    "\n",
    "|              | Covariance                    | Correlation                         |\n",
    "|--------------|-------------------------------|-------------------------------------|\n",
    "| Definition   | Measures the relationship between two variables, indicating the direction of the relationship (positive or negative) and the scale of their changes together. | Measures the strength and direction of the linear relationship between two variables. It standardizes the values, making it easier to compare relationships across different datasets. |\n",
    "| Scale        | Unbounded                     | Bounded between -1 and +1           |\n",
    "| Interpretation | Covariance value alone doesn't provide a clear indication of the strength or direction of the relationship. It requires comparison with the variable's own scales. | Correlation value indicates the strength and direction of the linear relationship. A value close to +1 or -1 represents a strong relationship, while a value close to 0 represents a weak or no linear relationship. |\n",
    "| Units        | Depends on the units of the variables being measured. | Unitless                            |\n",
    "| Sensitivity to Scale | Sensitive to the scale of the variables. Changing the scale of variables can impact the covariance. | Not sensitive to the scale of the variables. |\n",
    "| Mathematical Formula | Cov(X, Y) = Σ((X - X̄)(Y - Ȳ)) / n | Corr(X, Y) = Cov(X, Y) / (σ(X) * σ(Y)) |\n",
    "| Statistical Analysis | Used in various statistical analyses such as portfolio management, regression analysis, and risk assessment. | Widely used in data analysis, regression analysis, hypothesis testing, and examining relationships between variables. It helps identify associations and dependencies between variables and provides insights for decision-making. |\n",
    "\n",
    "## Q14. How do outliers affect measures of central tendency and dispersion? Provide an example.\n",
    "Outliers can significantly impact measures of central tendency and dispersion. Here's how outliers can affect these measures, using an example:\n",
    "\n",
    "Consider the following dataset of salaries in a company: {30,000, 35,000, 40,000, 45,000, 50,000, 55,000, 1,000,000}. The outlier in this dataset is the salary of 1,000,000, which is substantially higher than the other values.\n",
    "\n",
    "* Mean: \n",
    "Outliers can heavily influence the mean (average). In the example dataset, the mean salary without the outlier is (30,000 + 35,000 + 40,000 + 45,000 + 50,000 + 55,000) / 6 = 41,666.67. However, when the outlier is included, the mean becomes (30,000 + 35,000 + 40,000 + 45,000 + 50,000 + 55,000 + 1,000,000) / 7 = 196,428.57. The outlier significantly skews the mean upwards, making it an unreliable measure of central tendency for the data.\n",
    "\n",
    "* Median: \n",
    "Outliers have less effect on the median, which is the middle value in the sorted dataset. In this case, the median is 45,000 regardless of the outlier. It represents the central position of the data and is more resistant to the influence of extreme values.\n",
    "\n",
    "* Mode: \n",
    "Outliers typically have no impact on the mode, which is the most frequently occurring value. In the example dataset, there is no mode since no salary value appears more than once.\n",
    "\n",
    "* Range: \n",
    "Outliers can significantly affect the range, which is the difference between the maximum and minimum values in a dataset. In this case, the range without the outlier is 55,000 - 30,000 = 25,000. However, when including the outlier, the range becomes 1,000,000 - 30,000 = 970,000. The presence of the outlier greatly inflates the range.\n",
    "\n",
    "* Standard Deviation/Variance: \n",
    "Outliers can also impact measures of dispersion like standard deviation and variance. These measures quantify the spread or variability of the data points. In the presence of outliers, the standard deviation and variance can increase significantly, as they account for the deviations of the values from the mean. In the example dataset, the standard deviation and variance would be higher when including the outlier."
   ]
  },
  {
   "cell_type": "code",
   "execution_count": null,
   "id": "6952c85b-16ef-4480-b3fa-ac293bea7c78",
   "metadata": {},
   "outputs": [],
   "source": []
  },
  {
   "cell_type": "code",
   "execution_count": null,
   "id": "19122188-4034-4f10-9694-447425ffbdcb",
   "metadata": {},
   "outputs": [],
   "source": []
  },
  {
   "cell_type": "code",
   "execution_count": null,
   "id": "152cb2f0-faa9-40af-a799-796a236aced3",
   "metadata": {},
   "outputs": [],
   "source": []
  },
  {
   "cell_type": "code",
   "execution_count": null,
   "id": "4908ae22-c74b-47d2-a23e-f4bcd6637eaf",
   "metadata": {},
   "outputs": [],
   "source": []
  }
 ],
 "metadata": {
  "kernelspec": {
   "display_name": "Python 3 (ipykernel)",
   "language": "python",
   "name": "python3"
  },
  "language_info": {
   "codemirror_mode": {
    "name": "ipython",
    "version": 3
   },
   "file_extension": ".py",
   "mimetype": "text/x-python",
   "name": "python",
   "nbconvert_exporter": "python",
   "pygments_lexer": "ipython3",
   "version": "3.10.8"
  }
 },
 "nbformat": 4,
 "nbformat_minor": 5
}
