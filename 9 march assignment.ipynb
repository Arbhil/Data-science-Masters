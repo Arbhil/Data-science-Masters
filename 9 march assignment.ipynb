{
 "cells": [
  {
   "cell_type": "markdown",
   "id": "3aa05172-717b-41b0-abbc-330cd3016fd6",
   "metadata": {},
   "source": [
    "## Q1: What are the Probability Mass Function (PMF) and Probability Density Function (PDF)? Explain with an example.\n",
    "\n",
    "\n"
   ]
  },
  {
   "cell_type": "markdown",
   "id": "9b28edb1-cb24-4c41-a4d5-20da4459074d",
   "metadata": {},
   "source": [
    "### The Probability Density Function (PDF):\n",
    "\n",
    "The Probability Mass Function (PMF) is a function that describes the probability distribution of a discrete random variable. It assigns probabilities to each possible value that the random variable can take.\n",
    "\n",
    "To understand PMF, let's consider an example of rolling a fair six-sided die. The possible outcomes are the numbers 1, 2, 3, 4, 5, and 6. Let's denote the random variable representing the outcome as X.\n",
    "\n",
    "The PMF of X can be defined as follows:\n",
    "\n",
    "PMF(X = 1) = P(X = 1) = 1/6\n",
    "PMF(X = 2) = P(X = 2) = 1/6\n",
    "PMF(X = 3) = P(X = 3) = 1/6\n",
    "PMF(X = 4) = P(X = 4) = 1/6\n",
    "PMF(X = 5) = P(X = 5) = 1/6\n",
    "PMF(X = 6) = P(X = 6) = 1/6\n",
    "\n",
    "In this example, the PMF assigns equal probabilities of 1/6 to each possible outcome of rolling the die. This means that the probability of rolling a 1 is 1/6, the probability of rolling a 2 is 1/6, and so on.\n",
    "\n",
    "The PMF must satisfy two properties:\n",
    "\n",
    "Non-negativity: The probability assigned to each value must be non-negative. In our example, all probabilities are 1/6, which is non-negative.\n",
    "\n",
    "Sum of probabilities: The sum of probabilities assigned to all possible values must equal 1. In our example, the sum of all probabilities is (1/6) + (1/6) + (1/6) + (1/6) + (1/6) + (1/6) = 1, which satisfies this property."
   ]
  },
  {
   "cell_type": "markdown",
   "id": "f8ace291-2a3f-490f-9191-3015f38c9abb",
   "metadata": {},
   "source": [
    "### The Probability Density Function (PDF):\n",
    "\n",
    "The Probability Density Function (PDF) is a function that describes the probability distribution of a continuous random variable. Unlike the Probability Mass Function (PMF), which is used for discrete random variables, the PDF is used for continuous random variables.\n",
    "\n",
    "The PDF represents the relative likelihood of the random variable taking on different values within a given range. Unlike the PMF, which assigns probabilities to specific values, the PDF assigns probabilities to intervals or ranges of values.\n",
    "\n",
    "Let's consider an example of the height of adult males. Suppose we have a population of adult males, and we measure their heights in inches. Let's denote the random variable representing height as X.\n",
    "\n",
    "The PDF of X can be denoted as f(x), where x represents a particular value within the range of possible heights.\n",
    "\n",
    "For instance, the PDF might be represented by a bell-shaped curve, such as the normal distribution. The specific shape of the PDF depends on the characteristics of the random variable and the underlying probability distribution.\n",
    "\n",
    "Using the normal distribution as an example, the PDF might be defined as follows:\n",
    "\n",
    "f(x) = (1 / (σ * sqrt(2π))) * exp(-(x - μ)^2 / (2σ^2))\n",
    "\n",
    "In this formula, μ represents the mean (average) height of the population, and σ represents the standard deviation, which measures the spread or variability of the heights. The term exp(-(x - μ)^2 / (2σ^2)) represents the bell-shaped curve that describes the likelihood of different height values.\n",
    "\n",
    "The PDF must satisfy the following properties:\n",
    "\n",
    "Non-negativity: The PDF must be non-negative for all values of x.\n",
    "\n",
    "Area under the curve: The total area under the PDF curve must equal 1. This represents the probability of observing a height within the entire range of possible values"
   ]
  },
  {
   "cell_type": "markdown",
   "id": "628956f6-0fde-4bf2-bb31-e5be084a15f7",
   "metadata": {},
   "source": [
    "## Q2: What is Cumulative Density Function (CDF)? Explain with an example. Why CDF is used?"
   ]
  },
  {
   "cell_type": "markdown",
   "id": "c5fde4c3-6317-4218-88d1-af2465c6bf3d",
   "metadata": {},
   "source": [
    "The Cumulative Density Function (CDF) is a function that describes the cumulative probability distribution of a random variable. It gives the probability that the random variable takes on a value less than or equal to a given value.\n",
    "\n",
    "Let's consider an example of the height of adult males, similar to the previous example. Suppose we have a population of adult males, and we measure their heights in inches. Let's denote the random variable representing height as X.\n",
    "\n",
    "The CDF of X can be denoted as F(x), where x represents a particular value within the range of possible heights.\n",
    "\n",
    "For instance, using the normal distribution as an example, the CDF can be defined as follows:\n",
    "\n",
    "F(x) = Φ((x - μ) / σ)\n",
    "\n",
    "In this formula, μ represents the mean (average) height of the population, and σ represents the standard deviation. Φ(z) represents the cumulative probability of a standard normal distribution up to the z-score value, which is calculated using tables or mathematical functions.\n",
    "\n",
    "The CDF satisfies the following properties:\n",
    "\n",
    "Non-decreasing: The CDF is a non-decreasing function, meaning that as the value of x increases, the cumulative probability also increases.\n",
    "\n",
    "Range: The CDF is bounded between 0 and 1, inclusive. This represents the entire probability range from impossible (0) to certain (1)."
   ]
  },
  {
   "cell_type": "markdown",
   "id": "beef8c52-e68e-4646-a3a1-2172500d137d",
   "metadata": {},
   "source": [
    "#### CDF is used because:\n",
    "* The CDF is used to calculate probabilities for events or intervals of values.\n",
    "* It helps determine the likelihood of observing a specific outcome or falling within a certain range.\n",
    "* The CDF allows for determining quantiles and percentiles of a distribution.\n",
    "* It assists in finding specific values that correspond to certain percentiles or thresholds.\n",
    "* By plotting CDFs of different distributions, one can visually compare and analyze their differences and similarities.\n",
    "* The CDF plays a role in statistical inference, including hypothesis testing, to assess the likelihood of observed data under a hypothesized distribution.\n",
    "* It aids in simulation and modeling by generating random values based on a specific distribution."
   ]
  },
  {
   "cell_type": "markdown",
   "id": "1a8349a6-8ff7-4878-bc0c-35e95ce1ba45",
   "metadata": {},
   "source": [
    "## Q3: What are some examples of situations where the normal distribution might be used as a model? Explain how the parameters of the normal distribution relate to the shape of the distribution."
   ]
  },
  {
   "cell_type": "markdown",
   "id": "44ad623a-43be-4f03-92bf-4e80b6e2a389",
   "metadata": {},
   "source": [
    "#### Examples of situations where the normal distribution is used as a model:\n",
    "\n",
    "* Natural phenomena like heights, weights, and IQ scores\n",
    "* Financial markets, stock prices, and returns\n",
    "* Quality control in manufacturing processes\n",
    "* Biological and medical data like blood pressure and cholesterol levels\n",
    "* Social sciences variables such as income distribution and educational attainment\n",
    "\n",
    "#### The shape of the normal distribution is determined by two parameters: the mean (μ) and the standard deviation (σ). Here's how these parameters relate to the shape of the distribution:\n",
    "\n",
    "* Mean (μ): The mean represents the center or average value of the distribution. It determines the location of the peak or the highest point on the curve. Shifting the mean to the right or left moves the entire distribution along the x-axis.\n",
    "\n",
    "* Standard deviation (σ): The standard deviation measures the spread or variability of the data. A smaller standard deviation results in a narrower and taller distribution, while a larger standard deviation leads to a wider and flatter distribution."
   ]
  },
  {
   "cell_type": "markdown",
   "id": "569f2a5f-1e1a-422f-bb5b-52b9bf0fc45d",
   "metadata": {},
   "source": [
    "## Q4: Explain the importance of Normal Distribution. Give a few real-life examples of Normal Distribution. "
   ]
  },
  {
   "cell_type": "markdown",
   "id": "1093b482-aa18-4117-9c75-4d89db95a001",
   "metadata": {},
   "source": [
    "#### Importance of the Normal Distribution:\n",
    "\n",
    "* Common distribution observed in nature and social phenomena\n",
    "* Central Limit Theorem: Sum or average of random variables tends to follow a normal distribution\n",
    "* Fundamental in statistical inference and hypothesis testing\n",
    "* Basis for parameter estimation in statistical methods"
   ]
  },
  {
   "cell_type": "markdown",
   "id": "c4f378e9-85ed-421d-94f6-0564560e0e1c",
   "metadata": {},
   "source": [
    "#### Real-Life Examples of Normal Distribution:\n",
    "\n",
    "* Heights and weights of a population.\n",
    "* IQ scores and standardized test results.\n",
    "* Measurement errors in scientific experiments.\n",
    "* Financial market returns.\n",
    "* Biological and medical measurements like blood pressure.\n",
    "* Quality control in manufacturing processes."
   ]
  },
  {
   "cell_type": "markdown",
   "id": "2af042ea-25e8-4dfc-aac9-5f2be91e307d",
   "metadata": {},
   "source": [
    "## Q5: What is Bernaulli Distribution? Give an Example. What is the difference between Bernoulli Distribution and Binomial Distribution?"
   ]
  },
  {
   "cell_type": "markdown",
   "id": "25cf78ce-21b1-46b9-a970-2d804f0c8dc2",
   "metadata": {},
   "source": [
    "The Bernoulli distribution is a probability distribution that models a random experiment with two possible outcomes, typically referred to as success and failure. It represents a single trial where the event of interest either occurs (success) or does not occur (failure). \n",
    "\n",
    "Here's an example to illustrate the Bernoulli distribution:\n",
    "\n",
    "Let's consider flipping a fair coin. The outcome of interest could be \"getting heads\" (success) or \"getting tails\" (failure). In this case, we can use the Bernoulli distribution to analyze the probability of getting heads.\n",
    "\n",
    "The random variable X can represent the outcome of a coin flip, where X = 1 denotes success (getting heads) and X = 0 denotes failure (getting tails).\n",
    "The probability of success, denoted as p, is the probability of getting heads in a single coin flip. Since the coin is fair, p = 0.5.\n",
    "Using the Bernoulli distribution, we can express the probability of getting heads (success) as:\n",
    "\n",
    "P(X = 1) = p = 0.5\n",
    "\n",
    "And the probability of getting tails (failure) as:\n",
    "\n",
    "P(X = 0) = 1 - p = 1 - 0.5 = 0.5\n",
    "\n",
    "\n",
    "| Bernoulli Distribution | Binomial Distribution |\n",
    "|------------------------|----------------------|\n",
    "| Models a single trial with two possible outcomes (success/failure) | Models the number of successes in a fixed number of independent Bernoulli trials |\n",
    "| Has a fixed probability of success (p) for each trial | Has a fixed number of trials (n) and a probability of success (p) for each trial |\n",
    "| Random variable takes on only two values (usually denoted as 1 and 0) | Random variable represents the count of successes, which can take on values from 0 to n |\n",
    "| Example: Flipping a fair coin (Heads or Tails) | Example: Counting the number of Heads in a series of coin flips |\n",
    "| Probability mass function (PMF): P(X = 1) = p, P(X = 0) = 1 - p | Probability mass function (PMF): P(X = k) = C(n, k) * p^k * (1 - p)^(n - k), where C(n, k) is the binomial coefficient |\n",
    "| Mean: E(X) = p | Mean: E(X) = n * p |\n",
    "| Variance: Var(X) = p * (1 - p) | Variance: Var(X) = n * p * (1 - p) |\n"
   ]
  },
  {
   "cell_type": "markdown",
   "id": "0bae24ac-21ee-481a-a087-a6f7c18cf5a2",
   "metadata": {},
   "source": [
    "## Q6. Consider a dataset with a mean of 50 and a standard deviation of 10. If we assume that the dataset is normally distributed, what is the probability that a randomly selected observation will be greater than 60? Use the appropriate formula and show your calculations."
   ]
  },
  {
   "cell_type": "markdown",
   "id": "542ecd9f-baa6-4be6-89cf-26fcaeb41c32",
   "metadata": {},
   "source": [
    "Z-score = (x-µ)/σ\n",
    "\n",
    "Z-score = (60-50)/10 = 1\n",
    "From the z-score table we get area under the curve to the left is  0.84134\n",
    "hence the probability that a randomly selected observation will be greater\n",
    "than 60 is (1- 0.84134) = 0.15866, That is 15.866 percent\n"
   ]
  },
  {
   "cell_type": "markdown",
   "id": "929efcc1-5c4e-4143-b387-180e845df79b",
   "metadata": {},
   "source": [
    "## Q7: Explain uniform Distribution with an example."
   ]
  },
  {
   "cell_type": "markdown",
   "id": "2c6f1cc5-9981-45c0-8cbe-efc07f5e3b40",
   "metadata": {},
   "source": [
    "the uniform distribution represents a situation where all possible outcomes have the same probability of occurring.\n",
    "\n",
    "Here's an example to illustrate the uniform distribution:\n",
    "\n",
    "Consider rolling a fair six-sided die. The outcome of interest is the number rolled, which can be any value from 1 to 6. In this case, we can use the uniform distribution to analyze the probability of each possible outcome.\n",
    "\n",
    "The random variable X can represent the outcome of rolling the die, where X takes on values from 1 to 6.\n",
    "Since the die is fair, each outcome has an equal probability of occurring.\n",
    "Using the uniform distribution, we can express the probability of each outcome as:\n",
    "\n",
    "P(X = 1) = 1/6 = 0.1667\n",
    "P(X = 2) = 1/6 = 0.1667\n",
    "and so on\n",
    "\n",
    "The uniform distribution has the following properties:\n",
    "\n",
    "* The probability density function (PDF) is constant within the range of possible outcomes.\n",
    "* All outcomes within the range have an equal probability of occurring.\n",
    "* The cumulative distribution function (CDF) increases linearly within the range."
   ]
  },
  {
   "cell_type": "markdown",
   "id": "1e336621-86bb-48cf-8805-6d1c01995679",
   "metadata": {},
   "source": [
    "## Q8: What is the z score? State the importance of the z score."
   ]
  },
  {
   "cell_type": "markdown",
   "id": "bccccf09-d013-42be-b5c4-aa45c598818d",
   "metadata": {},
   "source": [
    "The z-score, also known as the standard score, is a statistical measure that quantifies how many standard deviations a data point is away from the mean of a distribution. It standardizes a value by expressing it in terms of its distance from the mean relative to the standard deviation.\n",
    "\n",
    "The formula for calculating the z-score is:\n",
    "z = (x - μ) / σ\n",
    "\n",
    "Where:\n",
    "\n",
    "z is the z-score\n",
    "x is the value being standardized\n",
    "μ is the mean of the distribution\n",
    "σ is the standard deviation of the distribution\n",
    "\n",
    "#### The importance of Z-score:\n",
    "* Standardization: The z-score transforms data into a common scale, allowing for meaningful comparisons and analysis.\n",
    "* Relative Position: The z-score indicates the relative position of a data point within a distribution, whether it is above or below the mean.\n",
    "* Probability and Percentiles: The z-score helps calculate probabilities and determine percentiles, aiding in statistical inference.\n",
    "* Outlier Detection: The z-score helps identify potential outliers by flagging data points with extreme z-scores.\n",
    "* Hypothesis Testing: The z-score is used to assess the significance of sample means in relation to population means.\n",
    "* Data Analysis and Transformation: The z-score allows for comparing and combining variables with different scales and aids in data transformation.\n",
    "* Widely Applicable: The z-score is used in various fields such as statistics, research, quality control, and finance for interpreting and making inferences from data."
   ]
  },
  {
   "cell_type": "markdown",
   "id": "da6935b2-7667-4822-a573-23ae9de2d6cd",
   "metadata": {},
   "source": [
    "## Q9: What is Central Limit Theorem? State the significance of the Central Limit Theorem."
   ]
  },
  {
   "cell_type": "markdown",
   "id": "b01a8cae-c7d1-430e-9b07-9cd6517c0481",
   "metadata": {},
   "source": [
    "The Central Limit Theorem (CLT) is a fundamental concept in statistics that states that when independent random variables are added together, their sum tends to follow a normal distribution, regardless of the shape of the original variables' distributions. In simpler terms, it states that the sum or average of a large number of independent random variables will have a bell-shaped (normal) distribution.\n",
    "\n",
    "Significance of the Central Limit Theorem:\n",
    "\n",
    "* Approximation: The CLT allows us to approximate the distribution of a sample mean or sum as a normal distribution, even if the underlying population is not normally distributed.\n",
    "* Statistical Inference: The CLT forms the basis for many statistical techniques, such as confidence intervals and hypothesis testing, as it enables us to make inferences about population parameters from sample data.\n",
    "* Sampling: The CLT provides guidance on the behavior of sample means, allowing us to understand the characteristics of a sample when drawing from a population.\n",
    "* Foundation for other Distributions: The CLT is the foundation for other important distributions, such as the t-distribution and the chi-square distribution, which are extensively used in statistical analysis."
   ]
  },
  {
   "cell_type": "markdown",
   "id": "6fe45635-c966-4475-96bc-e9ec6d6c0a7c",
   "metadata": {},
   "source": [
    "## Q10: State the assumptions of the Central Limit Theorem."
   ]
  },
  {
   "cell_type": "markdown",
   "id": "a048c8ae-b7fc-4eed-903f-88787e8ec87f",
   "metadata": {},
   "source": [
    "#### the assumptions of the Central Limit Theorem: \n",
    "\n",
    "* Independence: The random variables being averaged or summed must be independent of each other. This assumption ensures that the values of one variable do not affect the values of other variables.\n",
    "\n",
    "* Sample Size: The sample size should be sufficiently large. While there is no strict rule on what constitutes a \"large\" sample size, a general guideline is that the sample size should be greater than or equal to 30. However, in some cases, even smaller sample sizes can approximate a normal distribution.\n",
    "\n",
    "* Finite Variance: The variables should have a finite variance. Variance is a measure of how spread out the values of a random variable are. Having a finite variance ensures that the variability of the variables is not too extreme."
   ]
  },
  {
   "cell_type": "code",
   "execution_count": null,
   "id": "bfcc02cb-bfaf-42ff-ab8f-7a7b7e861e9f",
   "metadata": {},
   "outputs": [],
   "source": []
  },
  {
   "cell_type": "code",
   "execution_count": null,
   "id": "d3a82cac-b723-4ef2-8e65-295f6ee14675",
   "metadata": {},
   "outputs": [],
   "source": []
  }
 ],
 "metadata": {
  "kernelspec": {
   "display_name": "Python 3 (ipykernel)",
   "language": "python",
   "name": "python3"
  },
  "language_info": {
   "codemirror_mode": {
    "name": "ipython",
    "version": 3
   },
   "file_extension": ".py",
   "mimetype": "text/x-python",
   "name": "python",
   "nbconvert_exporter": "python",
   "pygments_lexer": "ipython3",
   "version": "3.10.8"
  }
 },
 "nbformat": 4,
 "nbformat_minor": 5
}
