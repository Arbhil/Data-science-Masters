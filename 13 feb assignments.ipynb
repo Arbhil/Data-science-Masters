{
 "cells": [
  {
   "cell_type": "markdown",
   "id": "d5e92475-0984-4f93-977d-c07c3c42cd37",
   "metadata": {},
   "source": [
    "## Q1. Explain why we have to use the Exception class while creating a Custom Exception.\n",
    "##### Note: Here Exception class refers to the base class for all the exceptions.\n",
    "#### ans- While creating a custom exception class we have to use the base class for all the exception(i.e. Exception) because we need the functionalities of that base Exception class that is already build-in in python. And we get the functionalities of the Exception superClass by inheritance.\n",
    "\n",
    "\n",
    "\n",
    "\n",
    "\n",
    "\n",
    "\n",
    "\n",
    "\n"
   ]
  },
  {
   "cell_type": "code",
   "execution_count": null,
   "id": "14506d56-2640-4e88-8a93-e05d02d934e3",
   "metadata": {},
   "outputs": [],
   "source": [
    "Example\n",
    "class validage(Exception):     # Inheritanmce\n",
    "    def __init__(self, messege):\n",
    "        self.messege = messege\n",
    "def valid_age(age):\n",
    "    if age<0:\n",
    "        raise validage(\"age cannot be negative\")\n",
    "    elif age>100:\n",
    "        raise validage(\"You are too old for this\")\n",
    "    else:\n",
    "        raise validage(\"valid age\")\n",
    "try:\n",
    "    age = int(input(\"Enter your age please\"))\n",
    "    valid_age(age)\n",
    "except validage as e:\n",
    "    print(e)\n"
   ]
  },
  {
   "cell_type": "markdown",
   "id": "21a805aa-82b7-48bd-8ae8-871f2b356498",
   "metadata": {},
   "source": [
    "## Q2. Write a python program to print Python Exception Hierarchy."
   ]
  },
  {
   "cell_type": "markdown",
   "id": "fe15eab2-1a2b-4cc3-ae94-2dc65dfbf10e",
   "metadata": {},
   "source": [
    "import inspect as ipt  \n",
    "    \n",
    "\n",
    "def tree_class(cls, ind = 0):  \n",
    " \n",
    "    print ('-' * ind, cls.__name__)  \n",
    "    for K in cls.__subclasses__():  \n",
    "        tree_class(K, ind + 3)  \n",
    "    \n",
    "print (\"The Hierarchy for inbuilt exceptions is: \")  \n",
    "ipt.getclasstree(ipt.getmro(BaseException))  \n",
    "tree_class(BaseException)  \n"
   ]
  },
  {
   "cell_type": "markdown",
   "id": "d7609fe9-3e8d-4f6d-bc79-5d0ecc6fda8f",
   "metadata": {},
   "source": [
    "## Q3. What errors are defined in the ArithmeticError class? Explain any two with an example.\n",
    "#### ArithmeticError\n",
    "* ZeroDivisionError\n",
    "* OverflowError\n",
    "* FloatingPointError"
   ]
  },
  {
   "cell_type": "code",
   "execution_count": 4,
   "id": "2c356d3a-8d47-4272-924f-a35bb72d17c1",
   "metadata": {},
   "outputs": [
    {
     "name": "stdout",
     "output_type": "stream",
     "text": [
      "This is a Zerodivisionerror  division by zero\n"
     ]
    }
   ],
   "source": [
    "# ZeroDivisionError\n",
    "try:\n",
    "    10/0\n",
    "except ZeroDivisionError as e:\n",
    "    print(\"This is a Zerodivisionerror \", e)"
   ]
  },
  {
   "cell_type": "code",
   "execution_count": 6,
   "id": "fd92e1b7-cbd7-4130-813d-f00ea4312f1c",
   "metadata": {},
   "outputs": [
    {
     "name": "stdout",
     "output_type": "stream",
     "text": [
      "5.0\n",
      "25.0\n",
      "15625.0\n",
      "5.960464477539062e+16\n",
      "7.52316384526264e+83\n",
      "Overflow error happened\n",
      "(34, 'Numerical result out of range'), <class 'OverflowError'>\n"
     ]
    }
   ],
   "source": [
    "# OverflowError\n",
    "j = 5.0\n",
    "\n",
    "try:\n",
    "    for i in range(1, 1000):\n",
    "        j = j**i\n",
    "        print(j)     # here data will be very large that's why it gives an overflowerror\n",
    "except OverflowError as e:\n",
    "    print(\"Overflow error happened\")\n",
    "    print(f\"{e}, {e.__class__}\")"
   ]
  },
  {
   "cell_type": "markdown",
   "id": "8f124d87-baa6-4f18-a69b-961d25460ec3",
   "metadata": {},
   "source": [
    "Q4. Why LookupError class is used? Explain with an example KeyError and IndexError."
   ]
  },
  {
   "cell_type": "code",
   "execution_count": 7,
   "id": "4e996014-c75c-41f8-9e63-e5c89872e48e",
   "metadata": {},
   "outputs": [
    {
     "name": "stdout",
     "output_type": "stream",
     "text": [
      "list index out of range, <class 'IndexError'>\n"
     ]
    }
   ],
   "source": [
    "x = [1, 2, 3, 4]\n",
    "try:\n",
    "    print(x[10])\n",
    "except LookupError as e:\n",
    "    print(f\"{e}, {e.__class__}\")  # Here e.__class__ is used to find the type of LookupError"
   ]
  },
  {
   "cell_type": "code",
   "execution_count": 9,
   "id": "bb9d88a3-3dcd-42ea-8082-d14520ecdae2",
   "metadata": {},
   "outputs": [
    {
     "name": "stdout",
     "output_type": "stream",
     "text": [
      " there is no such key 'c' , <class 'KeyError'>\n"
     ]
    }
   ],
   "source": [
    "d1 = {'a': [1,2,3,4], 'b': 'Rahul'}\n",
    "try:\n",
    "    print(d1[\"c\"])\n",
    "except LookupError as e:\n",
    "    print(f\" there is no such key {e} , {e.__class__}\")"
   ]
  },
  {
   "cell_type": "markdown",
   "id": "f0c84b89-dd80-4a67-98a8-6dcd3ba858a0",
   "metadata": {},
   "source": [
    "Q5. Explain ImportError. What is ModuleNotFoundError?\n",
    "Ans- When there is no module created and we try to import that into our current file, system will show the ImportError"
   ]
  },
  {
   "cell_type": "code",
   "execution_count": 10,
   "id": "7e2d1551-ff8c-4541-a744-b26397dcca40",
   "metadata": {},
   "outputs": [
    {
     "name": "stdout",
     "output_type": "stream",
     "text": [
      "This is an ImportError  No module named 'rahul'\n"
     ]
    }
   ],
   "source": [
    "# Example of ImportError\n",
    "try:\n",
    "    import rahul\n",
    "except ImportError as e:\n",
    "    print(\"This is an ImportError \", e)"
   ]
  },
  {
   "cell_type": "code",
   "execution_count": 13,
   "id": "35ed56ff-160f-445b-9c90-d55dc3436992",
   "metadata": {},
   "outputs": [
    {
     "name": "stdout",
     "output_type": "stream",
     "text": [
      "This is a ModuleNotFoundError  No module named 'numpys'\n"
     ]
    }
   ],
   "source": [
    "# Example of ModuleNotFoundError\n",
    "try:\n",
    "    import numpys as np\n",
    "except ModuleNotFoundError as e:\n",
    "    print(\"This is a ModuleNotFoundError \", e)"
   ]
  },
  {
   "cell_type": "markdown",
   "id": "83521f8f-0f26-470c-a3e5-d0660ecfebbb",
   "metadata": {},
   "source": [
    "Q6. List down some best practices for exception handling in python. "
   ]
  },
  {
   "cell_type": "code",
   "execution_count": 14,
   "id": "cbecfe5c-1671-4559-acc3-b7fd8f1712b3",
   "metadata": {},
   "outputs": [
    {
     "name": "stdout",
     "output_type": "stream",
     "text": [
      "This is a Zerodivisionerror  division by zero\n"
     ]
    }
   ],
   "source": [
    "#always use a specefic exception to write instead of using generic Exception class\n",
    "# always close the file in the 'Finally' block\n",
    "# always print a message\n",
    "# always log the error in a file\n",
    "# always avoid to write multiple exception handling\n",
    "try:\n",
    "    10/0\n",
    "except ModuleNotFoundError as e:\n",
    "    print(\"This is a ModuleNotFoundError \", e)\n",
    "except ImportError as e:\n",
    "    print(\"This is an ImportError \", e)\n",
    "except ZeroDivisionError as e:\n",
    "    print(\"This is a Zerodivisionerror \", e)"
   ]
  },
  {
   "cell_type": "code",
   "execution_count": null,
   "id": "7ae2ec97-4bdc-49c3-aa78-7761daf4b85a",
   "metadata": {},
   "outputs": [],
   "source": []
  },
  {
   "cell_type": "code",
   "execution_count": null,
   "id": "df2605cc-23ed-4ced-b612-c06d190169e9",
   "metadata": {},
   "outputs": [],
   "source": []
  },
  {
   "cell_type": "code",
   "execution_count": null,
   "id": "ffc733ed-e25c-42fd-8766-0a02e646d692",
   "metadata": {},
   "outputs": [],
   "source": []
  },
  {
   "cell_type": "code",
   "execution_count": null,
   "id": "bd779641-a371-4e42-8fd8-664812d31cda",
   "metadata": {},
   "outputs": [],
   "source": []
  },
  {
   "cell_type": "code",
   "execution_count": null,
   "id": "9a67865e-87d2-4696-b418-8fd5c87f3e48",
   "metadata": {},
   "outputs": [],
   "source": []
  }
 ],
 "metadata": {
  "kernelspec": {
   "display_name": "Python 3 (ipykernel)",
   "language": "python",
   "name": "python3"
  },
  "language_info": {
   "codemirror_mode": {
    "name": "ipython",
    "version": 3
   },
   "file_extension": ".py",
   "mimetype": "text/x-python",
   "name": "python",
   "nbconvert_exporter": "python",
   "pygments_lexer": "ipython3",
   "version": "3.10.8"
  },
  "toc-autonumbering": false,
  "toc-showcode": false,
  "toc-showmarkdowntxt": false
 },
 "nbformat": 4,
 "nbformat_minor": 5
}
