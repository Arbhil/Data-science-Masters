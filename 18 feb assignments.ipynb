{
 "cells": [
  {
   "cell_type": "markdown",
   "id": "4c5ad7fe-affd-4402-b69c-144ce92d6907",
   "metadata": {},
   "source": [
    "## Q1. What is an API? Give an example, where an API is used in real life.\n",
    "#### API:\n",
    "* API stands for Application Programming Interface. An API is a communication interface that allows two separate software components to share data. An API operates as a bridge between internal and external software operations, allowing for a fluid interchange of data that frequently passes undetected by the end-user. Simply said, an API acts as a virtual middleman, transferring data from one interface, such as a mobile app, to another. APIs connect various sections of a software platform to guarantee that information is sent correctly.\n",
    "* PayPal is an API at work. The \"Pay with PayPal\" functionality, like checking in with a social networking site, is done via APIs to ensure that the end application can only do what it needs to accomplish without being exposed to sensitive data or gaining access to unwelcome privileges. The inner workings of this useful feature are fairly similar to the login procedure discussed above. When a user selects the \"Pay with PayPal\" button, the application makes an \"order\" request to the PayPal API, containing the amount owing and other critical information. The user is then authenticated, and their purchase is confirmed through a pop-up. Finally, the API returns payment confirmation to the application if everything goes as planned.\n",
    "## Q2. Give advantages and disadvantages of using API. \n",
    "#### Advantages:\n",
    "* APIs bring a new level of modularity to applications. APIs allow developers to leverage the expertise of other applications. When an organization develops an application, they no longer need to reinvent the wheel when it comes to things like authentication, communication, payment processing, and maps. Instead developers can leverage the seamless plug in capabilities and functionality of APIs. APIs allow applications and system components to communicate with each other on internal networks as well as over the Internet. They’ve become integral to enterprise efforts to make internal applications and services accessible over the Internet to business customers, partners, suppliers, and other third parties.\n",
    "#### Disadvantages: \n",
    "* As a single point of entry, an API is a gateway and can become a hacker's primary target. Once the API is compromised, all other applications and systems become vulnerable. APIs are vulnerable to man-in-the-middle attacks, CSRF attacks, XSS attacks, SQL injection, and DDoS attacks.\n",
    "## Q3. What is a Web API? Differentiate between API and Web API.\n",
    "#### Web APi:\n",
    "* Web API(Application Programming Interface) is an API as the name suggests, it can be accessed over the web using the HTTP protocol. It is a framework that helps you to create and develop HTTP based RESTFUL services. The web API can be developed by using different technologies such as java, ASP.NET, etc. Web API is used in either a web server or a web browser.\n",
    "#### difference b/w Api and Web Api\n",
    "* Web Api is a sub-part of API.\n",
    "* API uses TCP(Transmission Control Protocall), SMTP(Simple Mail Transfer Protocall), HTTP(Hypertext Transfer Protocall). Whereas, Web APIs uses only  HTTP(Hypertext Transfer Protocall).\n",
    "\n",
    "## Q4. Explain REST and SOAP Architecture. Mention shortcomings of SOAP.\n",
    "#### REST Architecture:\n",
    "* REST was designed specifically for working with components such as media components, files, or even objects on a particular hardware device. Any web service that is defined on the principles of REST can be called a RestFul web service. A Restful service would use the normal HTTP verbs of GET, POST, PUT and DELETE for working with the required components. REST stands for Representational State Transfer.\n",
    "#### SOAP Architechture:\n",
    "* SOAP is a protocol which was designed before REST and came into the picture. The main idea behind designing SOAP was to ensure that programs built on different platforms and programming languages could exchange data in an easy manner. SOAP stands for Simple Object Access Protocol.\n",
    "#### shortcomings of SOAP: \n",
    "* SOAP is used only XML format data in web service, whereas JSON and other lightweight formats are not supported by it.\n",
    "* It is slow because it uses XML format, whereas the payload for a simple string message is large.\n",
    "* There are no security features in the SOAP specification.\n",
    "* There is no state reference for the remote object in the SOAP client.\n",
    "\n",
    "## Q5. Differentiate between REST and SOAP.\n",
    "|No.|\tSOAP|\tREST\n",
    "|-|-|-|\n",
    "|1)\t|SOAP is a protocol.\t|REST is an architectural style.|\n",
    "|2)\t|SOAP stands for Simple Object Access Protocol.\t|REST stands for REpresentational State Transfer.|\n",
    "|3)\t|SOAP can't use REST because it is a protocol.\t|REST can use SOAP web services because it is a concept and can use any protocol like HTTP, SOAP.|\n",
    "|4)\t|SOAP uses services interfaces to expose the business logic.\t|REST uses URI to expose business logic.|\n",
    "|5)\t|JAX-WS is the java API for SOAP web services.\t|JAX-RS is the java API for RESTful web services.|\n",
    "|6)\t|SOAP defines standards to be strictly followed.\t|REST does not define too much standards like SOAP.|\n",
    "|7)\t|SOAP requires more bandwidth and resource than REST.\t|REST requires less bandwidth and resource than SOAP.|\n",
    "|8)\t|SOAP defines its own security.\t|RESTful web services inherits security measures from the underlying transport.|\n",
    "|9)\t|SOAP permits XML data format only.\t|REST permits different data format such as Plain text, HTML, XML, JSON etc.|\n",
    "|10) |SOAP is less preferred than REST.\t|REST more preferred than SOAP.|"
   ]
  },
  {
   "cell_type": "code",
   "execution_count": null,
   "id": "8035995e-4c10-4920-846a-0029463f1bf3",
   "metadata": {},
   "outputs": [],
   "source": []
  },
  {
   "cell_type": "code",
   "execution_count": null,
   "id": "2e6b1a62-d450-43c8-80c0-825e4eb8e3f0",
   "metadata": {},
   "outputs": [],
   "source": []
  },
  {
   "cell_type": "code",
   "execution_count": null,
   "id": "abf8ba55-8670-4c5e-8fe3-4a4ee87a003d",
   "metadata": {},
   "outputs": [],
   "source": []
  },
  {
   "cell_type": "code",
   "execution_count": null,
   "id": "bf5e157e-4426-4bc4-9f69-1869f40e7f68",
   "metadata": {},
   "outputs": [],
   "source": []
  },
  {
   "cell_type": "code",
   "execution_count": null,
   "id": "cf2a8c89-e0d2-4e83-bfb0-b0dd1769854d",
   "metadata": {},
   "outputs": [],
   "source": []
  },
  {
   "cell_type": "code",
   "execution_count": null,
   "id": "ae1f404b-80f0-4786-94f6-d13ecf3a22e4",
   "metadata": {},
   "outputs": [],
   "source": []
  },
  {
   "cell_type": "code",
   "execution_count": null,
   "id": "d6843f0a-e456-42c0-a08d-45c75a430de1",
   "metadata": {},
   "outputs": [],
   "source": []
  },
  {
   "cell_type": "code",
   "execution_count": null,
   "id": "736673b7-a07d-417a-a122-a4ea66e26bd0",
   "metadata": {},
   "outputs": [],
   "source": []
  },
  {
   "cell_type": "code",
   "execution_count": null,
   "id": "ea7b85ff-0ef6-48c6-99a6-d5b58df21310",
   "metadata": {},
   "outputs": [],
   "source": []
  },
  {
   "cell_type": "code",
   "execution_count": null,
   "id": "11bc0cc9-923d-4647-8e67-a5866b07146f",
   "metadata": {},
   "outputs": [],
   "source": []
  },
  {
   "cell_type": "code",
   "execution_count": null,
   "id": "c40f0443-fda2-4a1e-bfa9-fd6de05f40b7",
   "metadata": {},
   "outputs": [],
   "source": []
  },
  {
   "cell_type": "code",
   "execution_count": null,
   "id": "b04d2e7e-1cf6-449c-b113-5a38b92b8ef9",
   "metadata": {},
   "outputs": [],
   "source": []
  },
  {
   "cell_type": "code",
   "execution_count": null,
   "id": "93684ec1-10b6-4ee0-802f-99310340cf09",
   "metadata": {},
   "outputs": [],
   "source": []
  },
  {
   "cell_type": "code",
   "execution_count": null,
   "id": "214472a5-41d8-45cb-8a07-09ce54497636",
   "metadata": {},
   "outputs": [],
   "source": []
  },
  {
   "cell_type": "code",
   "execution_count": null,
   "id": "1d5d5a68-12e9-4483-b7af-3ef9a42326eb",
   "metadata": {},
   "outputs": [],
   "source": []
  },
  {
   "cell_type": "code",
   "execution_count": null,
   "id": "c7be5c8a-6ee4-4e2d-b770-2bd471435da0",
   "metadata": {},
   "outputs": [],
   "source": []
  }
 ],
 "metadata": {
  "kernelspec": {
   "display_name": "Python 3 (ipykernel)",
   "language": "python",
   "name": "python3"
  },
  "language_info": {
   "codemirror_mode": {
    "name": "ipython",
    "version": 3
   },
   "file_extension": ".py",
   "mimetype": "text/x-python",
   "name": "python",
   "nbconvert_exporter": "python",
   "pygments_lexer": "ipython3",
   "version": "3.10.8"
  }
 },
 "nbformat": 4,
 "nbformat_minor": 5
}
