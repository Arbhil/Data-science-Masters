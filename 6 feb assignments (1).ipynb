{
 "cells": [
  {
   "cell_type": "markdown",
   "id": "f3f6a234-8af1-4802-90e3-d3ec5dafeded",
   "metadata": {},
   "source": [
    "## Q1. Create a function which will take a list as an argument and return the product of all the numbers after creating a flat list. Use the below-given list as an argument for your function.\n",
    "#### list1 = [1,2,3,4, [44,55,66, True], False, (34,56,78,89,34), {1,2,3,3,2,1}, {1:34, \"key2\": [55, 67, 78, 89], 4: (45,22, 61, 34)}, [56, 'data science'], 'Machine Learning']\n",
    "#### Note: you must extract numeric keys and values of the dictionary also.\n"
   ]
  },
  {
   "cell_type": "code",
   "execution_count": 20,
   "id": "2fa2c7d8-eba4-410d-8e0f-5624b66c888c",
   "metadata": {},
   "outputs": [
    {
     "name": "stdout",
     "output_type": "stream",
     "text": [
      "[1, 2, 3, 4, 44, 55, 66, [44, 55, 66, True], False, 34, 56, 78, 89, 34, (34, 56, 78, 89, 34), 1, 2, 3, {1, 2, 3}, 1, 34, 'key2', 55, 67, 78, 89, 4, 45, 22, 61, 34, 56, [56, 'data science'], 'Machine Learning']\n"
     ]
    },
    {
     "data": {
      "text/plain": [
       "'print(list2)\\nlist3 = []\\nfor i in list2:\\n    if type(i)==int:\\n        list3.append(i)\\nprint(list3)\\nfrom functools import reduce\\nreduce(lambda x,y: x*y, list3)'"
      ]
     },
     "execution_count": 20,
     "metadata": {},
     "output_type": "execute_result"
    }
   ],
   "source": [
    "list1 = [1,2,3,4, [44,55,66, True], False, (34,56,78,89,34), {1,2,3,3,2,1}, {1:34, \"key2\": [55, 67, 78, 89], 4: (45,22, 61, 34)}, [56, 'data science'], 'Machine Learning']\n",
    "\n",
    "def int_find(l):\n",
    "    list2= []\n",
    "    for i in l:\n",
    "        if type(i)== list or type(i)== tuple or type(i)== set:\n",
    "            for x in i:\n",
    "                if type(x)== int:\n",
    "                    list2.append(x)\n",
    "        if type(i)== dict:\n",
    "            a = list(i.items()) ## [(1, 34), ('key2', [55, 67, 78, 89]), (4, (45, 22, 61, 34))]\n",
    "            for x in a:\n",
    "                for y in x:\n",
    "                    if type(y)==tuple or type(y)== list:\n",
    "                        for u in y:\n",
    "                            if type(u)== int:\n",
    "                                list2.append(u)\n",
    "                    else:\n",
    "                        list2.append(y)\n",
    "        else:\n",
    "            list2.append(i)\n",
    "    return list2\n",
    "list2 = int_find(list1)\n",
    "print(list2)\n",
    "print(list2)\n",
    "list3 = []\n",
    "for i in list2:\n",
    "    if type(i)==int:\n",
    "        list3.append(i)\n",
    "print(list3)\n",
    "from functools import reduce\n",
    "reduce(lambda x,y: x*y, list3)'''"
   ]
  },
  {
   "cell_type": "markdown",
   "id": "864b42ce-b2bd-4a17-9e75-eac7c6be7a4c",
   "metadata": {},
   "source": [
    "## Q2. Write a python program for encrypting a message sent to you by your friend. The logic of encryption should be such that, for a the output should be z. For b, the output should be y. For c, the output should be x respectively. Also, the whitespace should be replaced with a dollar sign. Keep the punctuation marks unchanged.\n",
    "#### Input Sentence: I want to become a Data Scientist.\n",
    "#### Encrypt the above input sentence using the program you just created.\n",
    "#### Note: Convert the given input sentence into lowercase before encrypting. The final output should be lowercase."
   ]
  },
  {
   "cell_type": "code",
   "execution_count": 19,
   "id": "a3d04bfe-f5a6-45d9-b1fa-c47c24bb4da8",
   "metadata": {},
   "outputs": [
    {
     "name": "stdin",
     "output_type": "stream",
     "text": [
      "what sentence you want to encrypt Arjhj reiur\n"
     ]
    },
    {
     "name": "stdout",
     "output_type": "stream",
     "text": [
      "Your encrypted message is ziqsq$ivrfi\n"
     ]
    }
   ],
   "source": [
    "letters1 = ['a', 'b', 'c', 'd', 'e', 'f', 'g', 'h', 'i', 'j', 'k', 'l', 'm',' ', 'n', 'o', 'p', 'q', 'r', 's', 't', 'u', 'v', 'w', 'x', 'y', 'z']\n",
    "letters2 = ['z', 'y', 'x', 'w', 'v', 'u', 't', 's', 'r', 'q', 'p', 'o', 'n', '$', 'm', 'l', 'k', 'j', 'i', 'h', 'g', 'f', 'e', 'd', 'c', 'b', 'a']\n",
    "a = input(\"what sentence you want to encrypt\").lower()\n",
    "\n",
    "sentense = ''\n",
    "for i in list(a):\n",
    "    c= letters1.index(i)\n",
    "    y = letters2[c]\n",
    "    sentense += y\n",
    "\n",
    "print(f'Your encrypted message is {sentense}') "
   ]
  },
  {
   "cell_type": "code",
   "execution_count": null,
   "id": "6d741837-c9da-4409-ac4a-c0b142cd1a9f",
   "metadata": {},
   "outputs": [],
   "source": []
  },
  {
   "cell_type": "code",
   "execution_count": null,
   "id": "fbe76f2b-c0ca-41fe-b445-6426ddd1958c",
   "metadata": {},
   "outputs": [],
   "source": []
  },
  {
   "cell_type": "code",
   "execution_count": null,
   "id": "1b8994b8-a752-437d-ab81-849aad980b12",
   "metadata": {},
   "outputs": [],
   "source": []
  }
 ],
 "metadata": {
  "kernelspec": {
   "display_name": "Python 3 (ipykernel)",
   "language": "python",
   "name": "python3"
  },
  "language_info": {
   "codemirror_mode": {
    "name": "ipython",
    "version": 3
   },
   "file_extension": ".py",
   "mimetype": "text/x-python",
   "name": "python",
   "nbconvert_exporter": "python",
   "pygments_lexer": "ipython3",
   "version": "3.10.8"
  }
 },
 "nbformat": 4,
 "nbformat_minor": 5
}
